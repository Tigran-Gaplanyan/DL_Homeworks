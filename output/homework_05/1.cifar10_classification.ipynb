{
 "cells": [
  {
   "cell_type": "markdown",
   "metadata": {
    "id": "g6vUCiE_N5eU"
   },
   "source": [
    "# Cifar10 Classification"
   ]
  },
  {
   "cell_type": "markdown",
   "metadata": {
    "id": "X9ridWdTN5eY"
   },
   "source": [
    "Until now, we have implemented several pieces of a deep learning pipeline and trained a two-layer neural network, but all hyperparameters were pre-set to values yielding resonable results. However, in real problems a large part of the work will be geared towards finding the best hyperparameter settings for a certain problem. In this notebook we will explore some good practices for network debugging and hyperparameters search, as well as extending our binary classification neural network to a multi-class one."
   ]
  },
  {
   "cell_type": "markdown",
   "metadata": {
    "id": "4sTNILP7OCzb"
   },
   "source": [
    "## (Optional) Mount folder in Colab\n",
    "\n",
    "Uncomment the following cell to mount your gdrive if you are using the notebook in google colab:"
   ]
  },
  {
   "cell_type": "code",
   "execution_count": 1,
   "metadata": {
    "id": "PoG-5okpOPht"
   },
   "outputs": [
    {
     "data": {
      "text/plain": [
       "'\"\"\\nfrom google.colab import drive\\nimport os\\n\\ngdrive_path=\\'/content/gdrive/MyDrive/DL_homeworks/homework_05\\'\\n\\n# This will mount your google drive under \\'MyDrive\\'\\ndrive.mount(\\'/content/gdrive\\', force_remount=True)\\n# In order to access the files in this notebook we have to navigate to the correct folder\\nos.chdir(gdrive_path)\\n# Check manually if all files are present\\nprint(sorted(os.listdir()))\\n'"
      ]
     },
     "execution_count": 1,
     "metadata": {},
     "output_type": "execute_result"
    }
   ],
   "source": [
    "\"\"\"\"\"\n",
    "from google.colab import drive\n",
    "import os\n",
    "\n",
    "gdrive_path='/content/gdrive/MyDrive/DL_homeworks/homework_05'\n",
    "\n",
    "# This will mount your google drive under 'MyDrive'\n",
    "drive.mount('/content/gdrive', force_remount=True)\n",
    "# In order to access the files in this notebook we have to navigate to the correct folder\n",
    "os.chdir(gdrive_path)\n",
    "# Check manually if all files are present\n",
    "print(sorted(os.listdir()))\n",
    "\"\"\"\"\""
   ]
  },
  {
   "cell_type": "code",
   "execution_count": 1,
   "metadata": {
    "id": "JZmN1ATIN5eY"
   },
   "outputs": [],
   "source": [
    "# setup\n",
    "import matplotlib.pyplot as plt\n",
    "import numpy as np\n",
    "import os\n",
    "import urllib.request\n",
    "import warnings\n",
    "warnings.filterwarnings('ignore')\n",
    "\n",
    "from exercise_code.networks.layer import (\n",
    "    Sigmoid,\n",
    "    Relu,\n",
    "    LeakyRelu,\n",
    "    Tanh,\n",
    ")\n",
    "from exercise_code.data import (\n",
    "    DataLoader,\n",
    "    ImageFolderDataset,\n",
    "    MemoryImageFolderDataset,\n",
    "    RescaleTransform,\n",
    "    NormalizeTransform,\n",
    "    FlattenTransform,\n",
    "    ComposeTransform,\n",
    ")\n",
    "from exercise_code.data.image_folder_dataset import RandomHorizontalFlip\n",
    "from exercise_code.networks import (\n",
    "    ClassificationNet,\n",
    "    BCE,\n",
    "    CrossEntropyFromLogits\n",
    ")\n",
    "\n",
    "%load_ext autoreload\n",
    "%autoreload 2\n",
    "%matplotlib inline\n",
    "\n",
    "plt.rcParams['figure.figsize'] = (10.0, 8.0) # set default size of plots\n",
    "plt.rcParams['image.interpolation'] = 'nearest'\n",
    "plt.rcParams['image.cmap'] = 'gray'"
   ]
  },
  {
   "cell_type": "markdown",
   "metadata": {
    "id": "tRdaBwnMN5ea"
   },
   "source": [
    "# 1. Quick recap (and some new things)"
   ]
  },
  {
   "cell_type": "markdown",
   "metadata": {
    "id": "zsNrBTkyN5eb"
   },
   "source": [
    "Until now, in the previous homeworks, we focused on building and understanding all the necessary modules for training a simple model. We followed the Pytorch implementations closely, as this is the framework we will use later and we wanted you to have a smoother transition to its APIs.\n",
    "\n",
    "In the figure below you can see the main components in Pytorch. Let's start with a quick recap of **our implementation** of these components.\n",
    "\n",
    "<div class=\"alert alert-success\">\n",
    "    <h3>Task: Check Code</h3>\n",
    "    <p>Everything is already implemented for this part, but we <b>strongly</b> encourage you to check  the respective source files in order to have a better understanding. </p>\n",
    "</div>"
   ]
  },
  {
   "cell_type": "markdown",
   "metadata": {
    "id": "reTr9-VRN5ec"
   },
   "source": [
    "<img src=\"https://cdn-images-1.medium.com/max/800/1*uZrS4KjAuSJQIJPgOiaJUg.png\" style=\"width: 500px;\">"
   ]
  },
  {
   "cell_type": "markdown",
   "metadata": {
    "id": "4fZoL6hvN5ec"
   },
   "source": [
    "## 1.1 Dataset and Dataloader"
   ]
  },
  {
   "cell_type": "markdown",
   "metadata": {
    "id": "jvv1QqmJN5ed"
   },
   "source": [
    "Data preparation is an important part of deep learning projects. Because the data can come in different formats and from different sources, it must be prepared in a certain way, which depends on the application. One part, however, is uniform: since an entire dataset is usually too large to handle at once, we train our models on smaller batches of data.\n",
    "\n",
    "The goal of the ```Dataset``` class is to encapsulate all the 'dirty' data processing: loading and cleaning the data, storing features (or names of files where features can be found) and labels, as well as providing the means for accessing individual (transformed) items of the data using the ```__getitem__()``` function and an index. You already implemented an ```ImageFolderDataset``` (in ```exercise_code/data/image_folder_dataset.py```) class in Homework 2. We we will reuse this class here.\n",
    "\n",
    "For processing the data, you implemented several transforms in Homework 2 (```RescaleTransform```, ```NormalizeTransform```, ```ComposeTransform```). In this homework we are working with images, which are multidimensional arrays, but we are using a simple feedforward neural network which takes an one dimensional array as an input, so it is necessary to reshape the images before feeding them into the model.\n",
    "\n",
    "<div class=\"alert alert-success\">\n",
    "    <h3>Task: Check Code</h3>\n",
    "    <p>Please check the implementation of the reshape operation in the <code>FlattenTransform</code> class, which can be found in <code>../homework_05/exercise_code/data/image_folder_dataset.py</code>. </p>\n",
    "</div>"
   ]
  },
  {
   "cell_type": "code",
   "execution_count": 2,
   "metadata": {
    "id": "rGLQL7ieEpWt"
   },
   "outputs": [],
   "source": [
    "download_url = \"https://drive.google.com/uc?export=download&id=1oZ44BfkMdtBA4hqQAnRLw7LKBMgFfimz&confirm=t&uuid=3dc32715-5823-4cb5-a4c1-f3158fc508e6&at=AB6BwCAcSx0jxSwIjqxD_w-fn-8V:1695148236877\"\n",
    "dl_homeworks_path = os.path.dirname(os.path.abspath(os.getcwd()))\n",
    "cifar_root = os.path.join(dl_homeworks_path, \"datasets\", \"cifar10\")"
   ]
  },
  {
   "cell_type": "markdown",
   "metadata": {
    "id": "4GVX3ibCEpWu"
   },
   "source": [
    "## The usual memory vs local data warning\n",
    "If you are using google colab or store your files on a local HDD, iterating over dataset takes quite some time and blablabla. You know the drill by now ;).\n",
    "\n",
    "<div class=\"alert alert-danger\">\n",
    "    <h3>Warning</h3>\n",
    "    <p>Loading the whole dataset into memory will not work if you are using a machine with 4GB of RAM or less (depending on your other programs such as memory hungry web browsers). Consider closing some open programs or simply use the local on-demand ImageFolderDataset.</p>\n",
    "    <p>In addition we want to warn you that everytime you execute a cell like \"dataset2 = MemoryImageFolderDataset...\" you are loading a 1.2GB matrix into your memory. If you do this often enough this notebook will crash on every machine. Therefore, we make sure to always use a single variable \"dataset\" which will be overwritten by future cells to avoid straining your memory too much.</p>\n",
    "</div>"
   ]
  },
  {
   "cell_type": "code",
   "execution_count": 3,
   "metadata": {
    "id": "PfMYru36EpWu"
   },
   "outputs": [],
   "source": [
    "# Choose your preferred dataset here\n",
    "\n",
    "DATASET = ImageFolderDataset\n",
    "#DATASET = MemoryImageFolderDataset"
   ]
  },
  {
   "cell_type": "markdown",
   "metadata": {
    "id": "-sp9JKlBEpWv"
   },
   "source": [
    "Now that that is taken care of, back to the actual loading."
   ]
  },
  {
   "cell_type": "code",
   "execution_count": 4,
   "metadata": {
    "id": "2fHY8xTPN5ee"
   },
   "outputs": [],
   "source": [
    "# Use the Cifar10 mean and standard deviation computed in Homework 2.\n",
    "cifar_mean = np.array([0.49191375, 0.48235852, 0.44673872])\n",
    "cifar_std  = np.array([0.24706447, 0.24346213, 0.26147554])\n",
    "\n",
    "# Define all the transforms we will apply on the images when\n",
    "# retrieving them.\n",
    "rescale_transform = RescaleTransform()\n",
    "normalize_transform = NormalizeTransform(\n",
    "    mean=cifar_mean,\n",
    "    std=cifar_std\n",
    ")\n",
    "flatten_transform = FlattenTransform()\n",
    "compose_transform = ComposeTransform([rescale_transform,\n",
    "                                      normalize_transform,\n",
    "                                      flatten_transform])\n",
    "\n",
    "# Create a train, validation and test dataset.\n",
    "datasets = {}\n",
    "for mode in ['train', 'val', 'test']:\n",
    "    crt_dataset = DATASET(\n",
    "        mode=mode,\n",
    "        root=cifar_root,\n",
    "        transform=compose_transform,\n",
    "        split={'train': 0.6, 'val': 0.2, 'test': 0.2}\n",
    "    )\n",
    "    datasets[mode] = crt_dataset"
   ]
  },
  {
   "cell_type": "markdown",
   "metadata": {
    "id": "FsR4dM2kN5ee"
   },
   "source": [
    "Then, based on this ```Dataset``` object, we can construct a ```Dataloader``` object which samples a random mini-batch of data at once."
   ]
  },
  {
   "cell_type": "code",
   "execution_count": 5,
   "metadata": {
    "id": "3t4Xj_n3N5ef"
   },
   "outputs": [],
   "source": [
    "# Create a dataloader for each split.\n",
    "dataloaders = {}\n",
    "for mode in ['train', 'val', 'test']:\n",
    "    crt_dataloader = DataLoader(\n",
    "        dataset=datasets[mode],\n",
    "        batch_size=256,\n",
    "        shuffle=True,\n",
    "        drop_last=True,\n",
    "    )\n",
    "    dataloaders[mode] = crt_dataloader"
   ]
  },
  {
   "cell_type": "markdown",
   "metadata": {
    "id": "CpruSFLkN5ef"
   },
   "source": [
    "Because the ```Dataloader``` has the ```__iter__()``` method, we can simply iterate through the batches it produces, like this:\n",
    "\n",
    "```python\n",
    "for batch in dataloader['train']:\n",
    "    do_something(batch)\n",
    "```"
   ]
  },
  {
   "cell_type": "markdown",
   "metadata": {
    "id": "L81EGyslN5eg"
   },
   "source": [
    "## 1.2 Data Augmentation\n",
    "\n",
    "After the preprocessing steps, our data is in a good shape and ready to be fed into our network. As explained in the chapter above, we used the transformation functions `RescaleTransform`, `NormalizeTransform` and `FlattenTransform` to achieve this shape. These are the general steps that you need to perform on the data before you can start training. Of course, all these steps have to be applied to our three dataset splits (train, val and test split). In other words, preprocessing involves preparing the data before is can be used for training and inference.\n",
    "\n",
    "Besides these basic transformations, there are many other transformation methods that you can apply to the images. For example, you can <b>flip the images horizontally</b> or <b>blur the images</b> and use these new images to enlarge the dataset. This idea is called Data Augmentation and it involves methods that alter the training images to generate a synthetic dataset that is larger than your original dataset. This will hopefully improve the performance of your model. There is one important difference between data augmentation and data preprocessing: The transformation methods used to enlarge your dataset should only be applied to the training data. The validation and test data should not be affected by these methods.\n",
    "\n",
    "<div class=\"alert alert-success\">\n",
    "    <h3>Task: Check Code</h3>\n",
    "    <p>The choice of transformation methods for data augmentation can be seen as a hyperparameter of your model. You can try to include these to enlarge your training data and obtain better results for your model. In <code>exercise_code/data/image_folder_dataset.py</code> we implemented the function <code>RandomHorizontalFlip</code> for you, which is randomly flipping an image. Check out the implementation.</p>\n",
    "    <p> Later, we will perform hyperparameter tuning. In order to improve your model's performance, you can include some other data augmentation methods. Feel free to play around and to implement other methods as for example Gaussian Blur or Rotation. </p>       \n",
    "</div>\n",
    "\n",
    "Let us quickly check the `RandomHorizontalFlip` method with an image of the Cifar10 dataset in the following cell."
   ]
  },
  {
   "cell_type": "code",
   "execution_count": 6,
   "metadata": {
    "id": "3BEjmTGHN5eg"
   },
   "outputs": [
    {
     "data": {
      "image/png": "[encoded data removed]",
      "text/plain": [
       "<Figure size 200x200 with 2 Axes>"
      ]
     },
     "metadata": {},
     "output_type": "display_data"
    }
   ],
   "source": [
    "#Load the data in a dataset without any transformation\n",
    "dataset = DATASET(\n",
    "        mode=mode,\n",
    "        root=cifar_root,\n",
    "        download_url=download_url,\n",
    "        split={'train': 0.6, 'val': 0.2, 'test': 0.2},\n",
    "    )\n",
    "\n",
    "#Retrieve an image from the dataset and flip it\n",
    "image = dataset[1]['image']\n",
    "transform = RandomHorizontalFlip(1)\n",
    "image_flipped = transform(image)\n",
    "\n",
    "#Show the two images\n",
    "plt.figure(figsize = (2,2))\n",
    "plt.subplot(1, 2, 1)\n",
    "plt.imshow(image.astype('uint8'))\n",
    "plt.axis('off')\n",
    "plt.subplot(1, 2, 2)\n",
    "plt.imshow(image_flipped.astype('uint8'))\n",
    "plt.axis('off')\n",
    "plt.title(\"Left: Original Image, Right: Flipped image\")\n",
    "plt.show()"
   ]
  },
  {
   "cell_type": "markdown",
   "metadata": {
    "id": "WKNRU4BWN5eg"
   },
   "source": [
    "## 1.3 Layers\n",
    "\n",
    "Now, that the data is prepared, we can take a look at the model we are using. In our case it will be a neural network.\n",
    "\n",
    "In Homework 4, you implemented a simple 2-layer neural network that had a hidden size as a parameter:\n",
    "\n",
    "$$\n",
    "{\\hat{y}} = \\sigma(\\sigma({x W_1} + {b_1}) {W_2} + {b_2})\n",
    "$$\n",
    "\n",
    "where $ \\sigma({x}) $ was the sigmoid function, $ {x} $ was the input, $ {W_1}, {W_2} $ the weight matrices and $ {b_1}, {b_2}$ the biases for the two layers.\n",
    "\n",
    "This is how we used this network:"
   ]
  },
  {
   "cell_type": "code",
   "execution_count": 7,
   "metadata": {
    "id": "6zta7tzkN5eg"
   },
   "outputs": [],
   "source": [
    "input_size = datasets['train'][0]['image'].shape[0]\n",
    "model = ClassificationNet(input_size=input_size,\n",
    "                          hidden_size=512)"
   ]
  },
  {
   "cell_type": "markdown",
   "metadata": {
    "id": "UpAoXE7nN5eh"
   },
   "source": [
    "Note that we updated the ```ClassificationNet``` from the previous homework. Now you can customize the number of outputs, the choice of activation function, the hidden size etc. We encourage you to check the implementation in ```exercise_code/networks/classification_net.py```"
   ]
  },
  {
   "cell_type": "code",
   "execution_count": 8,
   "metadata": {
    "id": "7wzEaw66N5eh"
   },
   "outputs": [],
   "source": [
    "num_layer = 2\n",
    "reg = 0.1\n",
    "\n",
    "model = ClassificationNet(activation=Sigmoid(),\n",
    "                          num_layer=num_layer,\n",
    "                          reg=reg,\n",
    "                          num_classes=10)"
   ]
  },
  {
   "cell_type": "markdown",
   "metadata": {
    "id": "x70gjgkDN5eh"
   },
   "source": [
    "Performing the forward and backward passes through the model was quite simple:\n",
    "\n",
    "```python\n",
    "\n",
    "# X is a batch of training features\n",
    "# X.shape = (batch_size, features_size)\n",
    "y_out = model.forward(X)\n",
    "\n",
    "# dout is the gradient of the loss function w.r.t the output of the network.\n",
    "# dout.shape = (batch_size, )\n",
    "model.backward(dout)\n",
    "```"
   ]
  },
  {
   "cell_type": "markdown",
   "metadata": {
    "id": "dlwNcT2RN5eh"
   },
   "source": [
    "Just as the learning rate or the number of epochs we want to train for, the number of hidden layers and the number of units in each hidden layer are also hyperparameters that we can tune. In this notebook you can play with networks of different sizes to see the impact that the network capacity has.\n",
    "\n",
    "Before we move on to the loss functions, let's have a look at the activation functions. The choice of an activation function can have a huge impact on the performance of the network you are designing. So far, you have implemented the `Sigmoid` and the `Relu` activation functions in Homework 4.\n",
    "\n",
    "<div class=\"alert alert-success\">\n",
    "    <h3>Task: Check Code</h3>\n",
    "    <p>Take a look at the <code>Sigmoid</code> and the <code>Relu</code> class in <code>exercise_code/networks/layer.py</code> and the implementation of the respective forward and backward passes. Make sure to understand why we used <b>element-wise product</b> instead of dot product in the backward pass of the <code>Sigmoid</code> class to compute the gradient $dx$. That will be helpful for your later implementation of other activation functions.</p>\n",
    "    <p> <b>Note:</b> The <code>cache</code> variable is used to store information from the forward pass and then pass this information in the backward pass to make use of it there. The implementation of both classes shows that this variable can be used differently - depending on which information is needed in the backward pass. </p>\n",
    "</div>\n",
    "\n",
    "Now, we want to have a look at two other, very common activation functions that you have already seen in the lecture: Leaky ReLU activation function and Tanh activation function.\n",
    "\n",
    "**Leaky Relus** are one attempt to fix the “dying ReLU” problem. Instead of the function being zero when $x<0$, a leaky ReLU has a small negative slope (for example, 0.01).  The function computes $f(x) = \\mathbb{1}(x < 0) (\\alpha x) + \\mathbb{1}(x>=0) (x)$ where $\\alpha$ is a small constant. Some people report success with this form of activation function, but the results are not always consistent.\n",
    "\n",
    "The **tanh non-linearity** squashes a real-valued number into the range [-1, 1]. Like the sigmoid neuron, its activations saturate, but unlike the sigmoid neuron its output is zero-centered. Therefore, in practice the tanh non-linearity is always preferred to the sigmoid non-linearity. Also note that the tanh neuron is simply a scaled sigmoid neuron, in particular the following holds: $\\tanh(x) = 2 \\cdot \\sigma(2x) -1$.\n",
    "\n",
    "<img class=left src=https://pytorch.org/docs/stable/_images/LeakyReLU.png alt=\"Figure3\" width=\"350\" align='left'/>\n",
    "<img class=right src=https://pytorch.org/docs/stable/_images/Tanh.png alt=\"Figure4\" width=\"350\"/>\n",
    "\n",
    "<div class=\"alert alert-info\">\n",
    "    <h3>Task: Implement Activation Layers</h3>\n",
    "    <p> Now, it is your turn to implement the <code>LeakyRelu</code> and the <code>Tanh</code> class in <code>exercise_code/networks/layer.py</code> by completing the <code>forward</code> and the <code>backward</code> functions. You can test your implementation in the following two cells. </p>\n",
    "    <p> <b>Note:</b> Always remember to return a cache in <code>forward</code> for later backpropagation in <code>backward</code>. As we have seen above, the <code>cache</code> variable can be used differently for two activation functions.</p>\n",
    "</div>\n",
    "\n",
    "Use this cell to test your implementation of the `LeakyRelu` class:"
   ]
  },
  {
   "cell_type": "code",
   "execution_count": 9,
   "metadata": {
    "id": "v0LYvwHmN5ei"
   },
   "outputs": [
    {
     "name": "stdout",
     "output_type": "stream",
     "text": [
      "LeakyReluForwardTest passed.\n",
      "LeakyReluBackwardTest passed.\n",
      "Congratulations you have passed all the unit tests!!! Tests passed: 2/2\n",
      "Score: 100/100\n",
      "You secured a score of :100\n"
     ]
    }
   ],
   "source": [
    "from exercise_code.tests.layer_tests import *\n",
    "print(LeakyReluTestWrapper()())"
   ]
  },
  {
   "cell_type": "markdown",
   "metadata": {
    "id": "kOkiYhe_N5ei"
   },
   "source": [
    "And this cell to test your implementation of the `Tanh` class:"
   ]
  },
  {
   "cell_type": "code",
   "execution_count": 10,
   "metadata": {
    "id": "Do-AHImrN5ei"
   },
   "outputs": [
    {
     "name": "stdout",
     "output_type": "stream",
     "text": [
      "TanhForwardTest passed.\n",
      "TanhBackwardTest passed.\n",
      "Congratulations you have passed all the unit tests!!! Tests passed: 2/2\n",
      "Score: 100/100\n",
      "You secured a score of :100\n"
     ]
    }
   ],
   "source": [
    "print(TanhTestWrapper()())"
   ]
  },
  {
   "cell_type": "markdown",
   "metadata": {
    "id": "Mw_iJW4dN5ej"
   },
   "source": [
    "You have now implemented four different activation functions. These activation layers are now ready to be used when you start building your own network."
   ]
  },
  {
   "cell_type": "markdown",
   "metadata": {
    "id": "3MhxqP2LN5ej"
   },
   "source": [
    "## 1.4 Loss\n",
    "\n",
    "In order to measure how well a network is performing, we implemented several ```Loss``` classes (```L1```, ```MSE```, ```BCE```, each preferred for a certain type of problems) in ```exercise_code/networks/loss.py```.\n",
    "\n",
    "Each contains a ```forward()``` method, which outputs a number we can use as a measure for our network's performance.\n",
    "\n",
    "Since our goal is to change the weights of the network in a way that this loss measure decreases, we are also interested in the gradients of the loss w.r.t the outputs of the network, $ \\nabla_{\\hat{y}} L({\\hat{y}}, {y}) $. This was implemented in ```backward()```.\n",
    "\n",
    "In the previous homeworks, we worked on binary classification problems and therefore used binary cross entropy (```BCE```) as a loss function.\n",
    "\n",
    "$$ BCE(\\hat{y}, y) = \\frac{1}{N} \\sum_{i=1}^N \\Big [-y_i \\log(\\hat{y_i}) - (1-y_i) \\log(1 - \\hat{y_i}) \\Big] $$\n",
    "\n",
    "where\n",
    "- $ N $ was the number of samples we were considering\n",
    "- $\\hat{y}_i$ was the network's prediction for sample $i$. Note that this was a valid probability $\\in [0, 1]$, because we applied a [sigmoid](https://en.wikipedia.org/wiki/Sigmoid_function) activation on the last layer.\n",
    "- $ y_i $ was the ground truth label (0 or 1, depending on the class)\n",
    "\n",
    "Since we have 10 classes in the CIFAR10 dataset, we need a generalization of the binary cross entropy loss to multiple classes. This generalization is called the cross entropy loss and is defined as:\n",
    "$$ CE(\\hat{y}, y) = \\frac{1}{N} \\sum_{i=1}^N \\sum_{k=1}^{C} \\Big[ -y_{ik} \\log(\\hat{y}_{ik}) \\Big] $$\n",
    "\n",
    "where:\n",
    "- $ N $ is the number of samples\n",
    "- $ C $ is the number of classes\n",
    "- $ \\hat{y}_{ik} $ is the probability that the model assigns for the $k$th class when the $i$th sample is the input. **Because we don't apply any activation function on the last layer of our network, its outputs for each sample will not be a valid probability distribution over the classes. We call these the raw outputs of the network '[logits](https://datascience.stackexchange.com/questions/31041/what-does-logits-in-machine-learning-mean/31045)' and we will apply a [softmax](https://en.wikipedia.org/wiki/Softmax_function) activation in order to obtain a valid probability distribution.**\n",
    "- $y_{ik} = 1 $ iff the true label of the $i$th sample is $k$ and 0 otherwise. This is called a [one-hot encoding](https://machinelearningmastery.com/why-one-hot-encode-data-in-machine-learning/).\n",
    "\n",
    "You can check for yourself that if the number of classes $ C $ is 2, the binary cross entropy is actually equivalent to the cross entropy.\n",
    "\n",
    "<div class=\"alert alert-success\">\n",
    "    <h3>Task: Check Code</h3>\n",
    "    <p>Please check the implementation of the <code>CrossEntropyFromLogits</code> class, which can be found in <code>../homework_05/exercise_code/networks/loss.py</code>. </p>\n",
    "</div>"
   ]
  },
  {
   "cell_type": "code",
   "execution_count": 11,
   "metadata": {
    "id": "EBPuFF0BN5ej"
   },
   "outputs": [],
   "source": [
    "loss = CrossEntropyFromLogits()"
   ]
  },
  {
   "cell_type": "markdown",
   "metadata": {
    "id": "y1HcQs25N5ek"
   },
   "source": [
    "We can simply get the results of the forward and backward passes as follows:"
   ]
  },
  {
   "cell_type": "markdown",
   "metadata": {
    "id": "Jv2aujOvN5ek"
   },
   "source": [
    "```python\n",
    "# y_out is the output of the neural network\n",
    "# y_truth is the actual label from the dataset\n",
    "loss.forward(y_out, y_truth)\n",
    "loss.backward(y_out, y_truth)\n",
    "```"
   ]
  },
  {
   "cell_type": "markdown",
   "metadata": {
    "id": "dbFSP4z9N5ek"
   },
   "source": [
    "## 1.5 Optimizer\n",
    "\n",
    "Now that we know the gradient of the loss w.r.t the ouputs of the network, as well as the local gradient for each layer of the network, we can use the chain rule to compute all gradients.\n",
    "\n",
    "<div class=\"alert alert-success\">\n",
    "    <h3>Task: Check Code</h3>\n",
    "    <p>We implemented several optimizer classes <code>SGD</code>, <code>Adam</code>, <code>sgd_momentum</code> that use different first-order parameter update rules. Those can be found in <code>../homework_05/exercise_code/networks/optimizer.py</code>. </p>\n",
    "    <p>The <code>step()</code> method used, iterates through all the parameters of the model and updates them using the gradient information.</p>\n",
    "</div>\n",
    "\n",
    "What the optimizer is doing, in pseudocode, is the following:\n",
    "\n",
    "```python\n",
    "for param in model:\n",
    "    # Use the gradient to update the weights.\n",
    "    update(param)\n",
    "    \n",
    "    # Reset the gradient after each update.\n",
    "    param.gradient = 0\n",
    "```\n",
    "\n",
    "```SGD``` had the simplest update rule:\n",
    "```python\n",
    "def update(param):\n",
    "    param = param - learning_rate * param.gradient\n",
    "```\n",
    "\n",
    "For the more complicated update rules, see ```exercise_code/networks/optimizer.py```"
   ]
  },
  {
   "cell_type": "markdown",
   "metadata": {
    "id": "0TE2PxMBN5ek"
   },
   "source": [
    "## 1.6 Solver\n",
    "\n",
    "The ```Solver``` is where all the above elements come together: Given a train and a validation dataloader, a model, a loss and an optimizer, it uses the training data to optimize a model in order to get better predictions. We simply call the method ```train()``` and it does it all for us.\n",
    "```python\n",
    "solver = Solver(model,\n",
    "                dataloaders['train'],\n",
    "                dataloaders['val'],\n",
    "                learning_rate=0.001,\n",
    "                loss_func=MSE(),\n",
    "                optimizer=SGD)\n",
    "\n",
    "solver.train(epochs=epochs)\n",
    "```\n",
    "\n",
    "<div class=\"alert alert-success\">\n",
    "    <h3>Task: Check Code</h3>\n",
    "    <p>Please check out the implementation of <code>train()</code> in <code>../homework_05/exercise_code/solver.py</code>. </p>\n",
    "</div>"
   ]
  },
  {
   "cell_type": "markdown",
   "metadata": {
    "id": "QUFotyERN5ek"
   },
   "source": [
    "## 1.7 Weight Regularization\n",
    "\n",
    "Before finishing the recap, we want to take a look at some regularization methods that have been introduced in the lecture. Those can be helpful to improve the robustness of our model. In this chapter, we're talking about weight regularization methods.\n",
    "\n",
    "Weight regularization has been introduced to you as a method preventing the model from overfitting to the training data. The weight regularization term is added to the final loss and therefore encodes some preference for a certain set of weights $W$ over others. In the lecture, we compared two weight regularization methods and their respective preference for weight vectors. We made the following observations:\n",
    "\n",
    "1. L1 regularization: Enforces sparsity\n",
    "2. L2 regularization: Enforces that weights have similar values\n",
    "\n",
    "The most common weight regularization method is the L2 regularization. The L2 regularization prefers smaller and more diffuse weight vectors. Therefore, the model is encouraged to take all input dimensions into account rather than focusing strongly on a small number of input dimensions.\n",
    "\n",
    "When using weight regularization, the loss function is a composition of two parts:\n",
    "$$L = \\underbrace{\\frac{1}{N} \\sum_{i} L_i}_{\\text{data loss}}  + \\underbrace{\\lambda R(W)}_{\\text{regularization loss}}$$\n",
    "The first being the data loss, which is calculated using Cross Entropy loss in our model. The second part is called the regularization loss $R(W)$ and is computed in the L2 case as follows:\n",
    "$$R(W) = \\sum_{k} \\sum_{l} w_{k,l}^2$$"
   ]
  },
  {
   "cell_type": "markdown",
   "metadata": {
    "id": "DxExi4hQN5el"
   },
   "source": [
    "# 2. An overview of hyperparameters"
   ]
  },
  {
   "cell_type": "markdown",
   "metadata": {
    "collapsed": true,
    "id": "OdQde3JEN5el"
   },
   "source": [
    "\n",
    "<img src=https://images.deepai.org/glossary-terms/05c646fe1676490aa0b8cab0732a02b2/hyperparams.png alt=hyperparameter width=700>\n",
    "\n",
    "A **hyperparameter** is a parameter that is set before the learning process begins. Recall that the parameters of the weight matrix and the bias vector are learned during the learning process.\n",
    "\n",
    "The hyperparameter settings are essential, since they control and affect the whole training and therefore have a great impact on the model's performance.\n",
    "\n",
    "Some hyperparameters we have covered in lectures are:\n",
    "* Network architecture\n",
    "    * Choice of activation function\n",
    "    * Number of layers\n",
    "    * ...\n",
    "* Learning rate\n",
    "* Number of epochs\n",
    "* Batch size\n",
    "* Regularization strength\n",
    "* Momentum\n",
    "* ..."
   ]
  },
  {
   "cell_type": "markdown",
   "metadata": {
    "id": "Rn6g8Zw1N5el"
   },
   "source": [
    "## 2.1 Start debugging your own network."
   ]
  },
  {
   "cell_type": "markdown",
   "metadata": {
    "id": "hUoj3OgzN5el"
   },
   "source": [
    "As already suggested in the lectures, you should always start from small and simple architectures, to make sure you are going the right way.\n",
    "\n",
    "As a first step you should try to overfit to a single training sample, then to a few batches of training samples and finally go deeper with larger neural networks and the whole training data.\n",
    "\n",
    "We provide a default neural network (i.e. ClassificationNet) with arbitrary number of layers, which is a generalization from a fixed 2-layer neural network in homework 4. You are welcome to implement your own network, in that case just implement **MyOwnNetwork** in ```exercise_code/networks/classification_net.py```. You can also copy things from ClassficationNet and make little adjustments to your own network. Either way, just pick one network and comment out the other one, then run the cells below for debugging.\n",
    "\n",
    "<div class=\"alert alert-warning\">\n",
    "    <h3>Note:</h3>\n",
    "    <p>Please, make sure you don't modify the ClassificationNet itself. In this way you can always have a working network to fall back on.</p>\n",
    "    <p>You can <b>first stick to the default ClassificationNet implementation without changing any code at all</b>. The goal of this homework is to find reasonable hyperparameters and the parameter options of the ClassificationNet are broad enough to pass.</p>\n",
    "    <p>Once you have surpassed the goal (accuracy), you can try to implement additional activation functions in the accompanying notebook, try different weight initializations or make other adjustments by writing your own network architecture in the MyOwnNetwork class.</p>\n",
    "</div>"
   ]
  },
  {
   "cell_type": "markdown",
   "metadata": {
    "id": "gij9DxvmN5el"
   },
   "source": [
    "First, let's start with a 2-layer neural network, and overfit to one single training sample.\n",
    "\n",
    "After training, let's evaluate the training process by plotting the loss curves."
   ]
  },
  {
   "cell_type": "code",
   "execution_count": 12,
   "metadata": {
    "id": "S1k3JrlsN5el"
   },
   "outputs": [
    {
     "name": "stdout",
     "output_type": "stream",
     "text": [
      "(Epoch 1 / 20) train loss: 2.327992; val loss: 2.333577\n",
      "(Epoch 2 / 20) train loss: 2.327992; val loss: 2.320803\n",
      "(Epoch 3 / 20) train loss: 2.201901; val loss: 2.329869\n",
      "(Epoch 4 / 20) train loss: 2.052337; val loss: 2.355061\n",
      "(Epoch 5 / 20) train loss: 1.881469; val loss: 2.387624\n",
      "(Epoch 6 / 20) train loss: 1.711020; val loss: 2.419109\n",
      "(Epoch 7 / 20) train loss: 1.556224; val loss: 2.443894\n",
      "(Epoch 8 / 20) train loss: 1.413779; val loss: 2.460766\n",
      "(Epoch 9 / 20) train loss: 1.277494; val loss: 2.472060\n",
      "(Epoch 10 / 20) train loss: 1.146821; val loss: 2.481483\n",
      "(Epoch 11 / 20) train loss: 1.022606; val loss: 2.492313\n",
      "(Epoch 12 / 20) train loss: 0.906329; val loss: 2.506576\n",
      "(Epoch 13 / 20) train loss: 0.800357; val loss: 2.524869\n",
      "(Epoch 14 / 20) train loss: 0.706310; val loss: 2.546673\n",
      "(Epoch 15 / 20) train loss: 0.624434; val loss: 2.571004\n",
      "(Epoch 16 / 20) train loss: 0.553740; val loss: 2.596932\n",
      "(Epoch 17 / 20) train loss: 0.492828; val loss: 2.623857\n",
      "(Epoch 18 / 20) train loss: 0.440498; val loss: 2.651549\n",
      "(Epoch 19 / 20) train loss: 0.395530; val loss: 2.680034\n",
      "(Epoch 20 / 20) train loss: 0.356914; val loss: 2.709408\n"
     ]
    }
   ],
   "source": [
    "from exercise_code.solver import Solver\n",
    "from exercise_code.networks.optimizer import SGD, Adam\n",
    "from exercise_code.networks import MyOwnNetwork\n",
    "\n",
    "num_layer = 2\n",
    "epochs = 20\n",
    "reg = 0.1\n",
    "batch_size = 4\n",
    "\n",
    "model = ClassificationNet(num_layer=num_layer, reg=reg)\n",
    "#model = MyOwnNetwork(num_layer=num_layer, reg=reg)\n",
    "\n",
    "loss = CrossEntropyFromLogits()\n",
    "\n",
    "# Make a new data loader with a single training image\n",
    "overfit_dataset = DATASET(\n",
    "    mode='train',\n",
    "    root=cifar_root,\n",
    "    download_url=download_url,\n",
    "    transform=compose_transform,\n",
    "    limit_files=1\n",
    ")\n",
    "dataloaders['train_overfit_single_image'] = DataLoader(\n",
    "    dataset=overfit_dataset,\n",
    "    batch_size=batch_size,\n",
    "    shuffle=True,\n",
    "    drop_last=False,\n",
    ")\n",
    "\n",
    "# Decrease validation data for only debugging\n",
    "debugging_validation_dataset = DATASET(\n",
    "    mode='val',\n",
    "    root=cifar_root,\n",
    "    download_url=download_url,\n",
    "    transform=compose_transform,\n",
    "    limit_files=100\n",
    ")\n",
    "dataloaders['val_500files'] = DataLoader(\n",
    "    dataset=debugging_validation_dataset,\n",
    "    batch_size=batch_size,\n",
    "    shuffle=True,\n",
    "    drop_last=True,\n",
    ")\n",
    "\n",
    "solver = Solver(model, dataloaders['train_overfit_single_image'], dataloaders['val_500files'],\n",
    "                learning_rate=1e-3, loss_func=loss, optimizer=Adam)\n",
    "\n",
    "solver.train(epochs=epochs)"
   ]
  },
  {
   "cell_type": "code",
   "execution_count": 13,
   "metadata": {
    "id": "aMc51VqHN5em"
   },
   "outputs": [
    {
     "data": {
      "image/png": "[encoded data removed]",
      "text/plain": [
       "<Figure size 1000x800 with 1 Axes>"
      ]
     },
     "metadata": {},
     "output_type": "display_data"
    }
   ],
   "source": [
    "plt.title('Loss curves')\n",
    "plt.plot(solver.train_loss_history, '-', label='train')\n",
    "plt.plot(solver.val_loss_history, '-', label='val')\n",
    "plt.legend(loc='lower right')\n",
    "plt.xlabel('Iteration')\n",
    "plt.show()"
   ]
  },
  {
   "cell_type": "code",
   "execution_count": 14,
   "metadata": {
    "id": "cchvV2Q_N5em"
   },
   "outputs": [
    {
     "name": "stdout",
     "output_type": "stream",
     "text": [
      "Training accuray: 1.00000\n",
      "Validation accuray: 0.07000\n"
     ]
    }
   ],
   "source": [
    "print(\"Training accuray: %.5f\" % (solver.get_dataset_accuracy(dataloaders['train_overfit_single_image'])))\n",
    "print(\"Validation accuray: %.5f\" % (solver.get_dataset_accuracy(dataloaders['val_500files'])))"
   ]
  },
  {
   "cell_type": "markdown",
   "metadata": {
    "id": "HeTCu8wwN5em"
   },
   "source": [
    "This time we want to overfit to a small set of training batch samples. Please observe the difference from above."
   ]
  },
  {
   "cell_type": "code",
   "execution_count": 15,
   "metadata": {
    "id": "SsIu_JaUN5em"
   },
   "outputs": [
    {
     "name": "stdout",
     "output_type": "stream",
     "text": [
      "(Epoch 1 / 100) train loss: 2.331938; val loss: 2.334331\n",
      "(Epoch 2 / 100) train loss: 2.325609; val loss: 2.337541\n",
      "(Epoch 3 / 100) train loss: 2.207519; val loss: 2.391639\n",
      "(Epoch 4 / 100) train loss: 2.048381; val loss: 2.439445\n",
      "(Epoch 5 / 100) train loss: 2.048479; val loss: 2.522273\n",
      "(Epoch 6 / 100) train loss: 1.925998; val loss: 2.566617\n",
      "(Epoch 7 / 100) train loss: 1.857588; val loss: 2.628791\n",
      "(Epoch 8 / 100) train loss: 1.725757; val loss: 2.711391\n",
      "(Epoch 9 / 100) train loss: 1.752357; val loss: 2.795958\n",
      "(Epoch 10 / 100) train loss: 1.810925; val loss: 2.842225\n",
      "(Epoch 11 / 100) train loss: 1.718056; val loss: 2.855684\n",
      "(Epoch 12 / 100) train loss: 1.646908; val loss: 2.979115\n",
      "(Epoch 13 / 100) train loss: 1.625130; val loss: 3.089495\n",
      "(Epoch 14 / 100) train loss: 1.672408; val loss: 3.119818\n",
      "(Epoch 15 / 100) train loss: 1.598648; val loss: 3.084452\n",
      "(Epoch 16 / 100) train loss: 1.674407; val loss: 3.100027\n",
      "(Epoch 17 / 100) train loss: 1.714083; val loss: 3.168348\n",
      "(Epoch 18 / 100) train loss: 1.656148; val loss: 3.252408\n",
      "(Epoch 19 / 100) train loss: 1.739993; val loss: 3.245475\n",
      "(Epoch 20 / 100) train loss: 1.561257; val loss: 3.253790\n",
      "(Epoch 21 / 100) train loss: 1.540376; val loss: 3.314405\n",
      "(Epoch 22 / 100) train loss: 1.646614; val loss: 3.308773\n",
      "(Epoch 23 / 100) train loss: 1.581151; val loss: 3.302904\n",
      "(Epoch 24 / 100) train loss: 1.422976; val loss: 3.371343\n",
      "(Epoch 25 / 100) train loss: 1.562293; val loss: 3.425782\n",
      "(Epoch 26 / 100) train loss: 1.647568; val loss: 3.397219\n",
      "(Epoch 27 / 100) train loss: 1.467402; val loss: 3.377734\n",
      "(Epoch 28 / 100) train loss: 1.495070; val loss: 3.354369\n",
      "(Epoch 29 / 100) train loss: 1.588650; val loss: 3.382466\n",
      "(Epoch 30 / 100) train loss: 1.483492; val loss: 3.407889\n",
      "(Epoch 31 / 100) train loss: 1.515264; val loss: 3.393643\n",
      "(Epoch 32 / 100) train loss: 1.466285; val loss: 3.401993\n",
      "(Epoch 33 / 100) train loss: 1.423159; val loss: 3.425434\n",
      "(Epoch 34 / 100) train loss: 1.400972; val loss: 3.430258\n",
      "(Epoch 35 / 100) train loss: 1.348053; val loss: 3.429814\n",
      "(Epoch 36 / 100) train loss: 1.329759; val loss: 3.433689\n",
      "(Epoch 37 / 100) train loss: 1.288834; val loss: 3.455196\n",
      "(Epoch 38 / 100) train loss: 1.348734; val loss: 3.464836\n",
      "(Epoch 39 / 100) train loss: 1.260980; val loss: 3.498036\n",
      "(Epoch 40 / 100) train loss: 1.358767; val loss: 3.473409\n",
      "(Epoch 41 / 100) train loss: 1.390493; val loss: 3.433425\n",
      "(Epoch 42 / 100) train loss: 1.292045; val loss: 3.491149\n",
      "(Epoch 43 / 100) train loss: 1.268652; val loss: 3.539978\n",
      "(Epoch 44 / 100) train loss: 1.330824; val loss: 3.513853\n",
      "(Epoch 45 / 100) train loss: 1.287729; val loss: 3.509725\n",
      "(Epoch 46 / 100) train loss: 1.290267; val loss: 3.519821\n",
      "(Epoch 47 / 100) train loss: 1.172291; val loss: 3.522474\n",
      "(Epoch 48 / 100) train loss: 1.195694; val loss: 3.491398\n",
      "(Epoch 49 / 100) train loss: 1.170439; val loss: 3.480601\n",
      "(Epoch 50 / 100) train loss: 1.119711; val loss: 3.482389\n",
      "(Epoch 51 / 100) train loss: 1.257560; val loss: 3.513039\n",
      "(Epoch 52 / 100) train loss: 1.181583; val loss: 3.600747\n",
      "(Epoch 53 / 100) train loss: 1.283340; val loss: 3.644795\n",
      "(Epoch 54 / 100) train loss: 1.265615; val loss: 3.624526\n",
      "(Epoch 55 / 100) train loss: 1.159158; val loss: 3.576834\n",
      "(Epoch 56 / 100) train loss: 1.182414; val loss: 3.551872\n",
      "(Epoch 57 / 100) train loss: 1.105850; val loss: 3.560429\n",
      "(Epoch 58 / 100) train loss: 1.130616; val loss: 3.571432\n",
      "(Epoch 59 / 100) train loss: 1.134558; val loss: 3.574873\n",
      "(Epoch 60 / 100) train loss: 1.027422; val loss: 3.568672\n",
      "(Epoch 61 / 100) train loss: 1.027777; val loss: 3.541614\n",
      "(Epoch 62 / 100) train loss: 1.071632; val loss: 3.526807\n",
      "(Epoch 63 / 100) train loss: 1.000724; val loss: 3.545189\n",
      "(Epoch 64 / 100) train loss: 1.001871; val loss: 3.569452\n",
      "(Epoch 65 / 100) train loss: 1.005035; val loss: 3.568322\n",
      "(Epoch 66 / 100) train loss: 1.012345; val loss: 3.581639\n",
      "(Epoch 67 / 100) train loss: 1.031481; val loss: 3.623874\n",
      "(Epoch 68 / 100) train loss: 1.022743; val loss: 3.655385\n",
      "(Epoch 69 / 100) train loss: 1.002597; val loss: 3.638895\n",
      "(Epoch 70 / 100) train loss: 1.047481; val loss: 3.595655\n",
      "(Epoch 71 / 100) train loss: 1.074237; val loss: 3.591181\n",
      "(Epoch 72 / 100) train loss: 1.023344; val loss: 3.627247\n",
      "(Epoch 73 / 100) train loss: 0.985536; val loss: 3.649597\n",
      "(Epoch 74 / 100) train loss: 0.956673; val loss: 3.626058\n",
      "(Epoch 75 / 100) train loss: 0.953968; val loss: 3.563884\n",
      "(Epoch 76 / 100) train loss: 0.932819; val loss: 3.543700\n",
      "(Epoch 77 / 100) train loss: 0.907463; val loss: 3.561685\n",
      "(Epoch 78 / 100) train loss: 0.920114; val loss: 3.581150\n",
      "(Epoch 79 / 100) train loss: 0.902032; val loss: 3.603120\n",
      "(Epoch 80 / 100) train loss: 0.899427; val loss: 3.566424\n",
      "(Epoch 81 / 100) train loss: 0.928899; val loss: 3.577112\n",
      "(Epoch 82 / 100) train loss: 0.924480; val loss: 3.587221\n",
      "(Epoch 83 / 100) train loss: 0.964044; val loss: 3.580696\n",
      "(Epoch 84 / 100) train loss: 0.874808; val loss: 3.583204\n",
      "(Epoch 85 / 100) train loss: 0.938830; val loss: 3.587788\n",
      "(Epoch 86 / 100) train loss: 0.853180; val loss: 3.594803\n",
      "(Epoch 87 / 100) train loss: 0.909091; val loss: 3.579225\n",
      "(Epoch 88 / 100) train loss: 0.899377; val loss: 3.540678\n",
      "(Epoch 89 / 100) train loss: 0.877273; val loss: 3.561657\n",
      "(Epoch 90 / 100) train loss: 0.851209; val loss: 3.592029\n",
      "(Epoch 91 / 100) train loss: 0.860576; val loss: 3.592714\n",
      "(Epoch 92 / 100) train loss: 0.917568; val loss: 3.586197\n",
      "(Epoch 93 / 100) train loss: 0.916384; val loss: 3.648954\n",
      "(Epoch 94 / 100) train loss: 1.027391; val loss: 3.628603\n",
      "(Epoch 95 / 100) train loss: 0.898212; val loss: 3.659187\n",
      "(Epoch 96 / 100) train loss: 0.937496; val loss: 3.673554\n",
      "(Epoch 97 / 100) train loss: 0.982593; val loss: 3.657673\n",
      "(Epoch 98 / 100) train loss: 0.895751; val loss: 3.655952\n",
      "(Epoch 99 / 100) train loss: 0.840275; val loss: 3.596174\n",
      "(Epoch 100 / 100) train loss: 0.906998; val loss: 3.558889\n"
     ]
    }
   ],
   "source": [
    "from exercise_code.networks import MyOwnNetwork\n",
    "\n",
    "num_layer = 2\n",
    "epochs = 100\n",
    "reg = 0.1\n",
    "num_samples = 10\n",
    "\n",
    "model = ClassificationNet(num_layer=num_layer, reg=reg)\n",
    "#model = MyOwnNetwork(num_layer=num_layer, reg=reg)\n",
    "\n",
    "loss = CrossEntropyFromLogits()\n",
    "\n",
    "# Make a new data loader with a our num_samples training image\n",
    "overfit_dataset = DATASET(\n",
    "    mode='train',\n",
    "    root=cifar_root,\n",
    "    download_url=download_url,\n",
    "    transform=compose_transform,\n",
    "    limit_files=num_samples\n",
    ")\n",
    "dataloaders['train_overfit_10samples'] = DataLoader(\n",
    "    dataset=overfit_dataset,\n",
    "    batch_size=batch_size,\n",
    "    shuffle=True,\n",
    "    drop_last=False,\n",
    ")\n",
    "\n",
    "solver = Solver(model, dataloaders['train_overfit_10samples'], dataloaders['val_500files'],\n",
    "                learning_rate=1e-3, loss_func=loss, optimizer=Adam)\n",
    "\n",
    "solver.train(epochs=epochs)"
   ]
  },
  {
   "cell_type": "code",
   "execution_count": 16,
   "metadata": {
    "id": "DmzTCYw_N5en"
   },
   "outputs": [
    {
     "data": {
      "image/png": "[encoded data removed]",
      "text/plain": [
       "<Figure size 1000x800 with 1 Axes>"
      ]
     },
     "metadata": {},
     "output_type": "display_data"
    }
   ],
   "source": [
    "plt.title('Loss curves')\n",
    "plt.plot(solver.train_loss_history, '-', label='train')\n",
    "plt.plot(solver.val_loss_history, '-', label='val')\n",
    "plt.legend(loc='lower right')\n",
    "plt.xlabel('Iteration')\n",
    "plt.show()"
   ]
  },
  {
   "cell_type": "code",
   "execution_count": 17,
   "metadata": {
    "id": "8H8xyMcaN5en"
   },
   "outputs": [
    {
     "name": "stdout",
     "output_type": "stream",
     "text": [
      "Training accuray: 1.00000\n",
      "Validation accuray: 0.06000\n"
     ]
    }
   ],
   "source": [
    "print(\"Training accuray: %.5f\" % (solver.get_dataset_accuracy(dataloaders['train_overfit_10samples'])))\n",
    "print(\"Validation accuray: %.5f\" % (solver.get_dataset_accuracy(dataloaders['val_500files'])))"
   ]
  },
  {
   "cell_type": "markdown",
   "metadata": {
    "id": "7PoTJskAN5en"
   },
   "source": [
    "If you're overfitting to the training data, that means the network's implementation is correct. However, as you have more samples to overfit, your accuracy will be way lower. You can increase the number of epochs above to achieve better results.\n",
    "\n",
    "Now let's try to feed all the training and validation data into the network, but this time let's set compare a 2-layer and a 5-layer network, using the same hyperparameters.\n",
    "\n",
    "<div class=\"alert alert-warning\">\n",
    "    <h3>Note:</h3>\n",
    "    <p>This may take about 1 min per epoch as the training set is quite large. For convenience, we are now only using 1000 images for training but use the full validation set.</p>\n",
    "</div>"
   ]
  },
  {
   "cell_type": "code",
   "execution_count": 18,
   "metadata": {
    "colab": {
     "background_save": true
    },
    "id": "ayhMGBUBN5en"
   },
   "outputs": [
    {
     "name": "stdout",
     "output_type": "stream",
     "text": [
      "(Epoch 1 / 5) train loss: 2.305701; val loss: 2.305666\n",
      "(Epoch 2 / 5) train loss: 2.278313; val loss: 2.217917\n",
      "(Epoch 3 / 5) train loss: 2.229720; val loss: 2.238025\n",
      "(Epoch 4 / 5) train loss: 2.225433; val loss: 2.224318\n",
      "(Epoch 5 / 5) train loss: 2.221211; val loss: 2.223431\n"
     ]
    }
   ],
   "source": [
    "from exercise_code.networks import MyOwnNetwork\n",
    "\n",
    "num_layer = 2\n",
    "epochs = 5\n",
    "reg = 0.01\n",
    "\n",
    "# Make a new data loader with 1000 training samples\n",
    "num_samples = 1000\n",
    "overfit_dataset = DATASET(\n",
    "    mode='train',\n",
    "    root=cifar_root,\n",
    "    download_url=download_url,\n",
    "    transform=compose_transform,\n",
    "    limit_files=num_samples\n",
    ")\n",
    "dataloaders['train_small'] = DataLoader(\n",
    "    dataset=overfit_dataset,\n",
    "    batch_size=batch_size,\n",
    "    shuffle=True,\n",
    "    drop_last=False,\n",
    ")\n",
    "\n",
    "\n",
    "# Change here if you want to use the full training set\n",
    "use_full_training_set = False\n",
    "if not use_full_training_set:\n",
    "    train_loader = dataloaders['train_small']\n",
    "else:\n",
    "    train_loader = dataloaders['train']\n",
    "\n",
    "\n",
    "model = ClassificationNet(num_layer=num_layer, reg=reg)\n",
    "#model = MyOwnNetwork(num_layer=num_layer, reg=reg)\n",
    "\n",
    "loss = CrossEntropyFromLogits()\n",
    "\n",
    "solver = Solver(model, train_loader, dataloaders['val'],\n",
    "                learning_rate=1e-3, loss_func=loss, optimizer=Adam)\n",
    "\n",
    "solver.train(epochs=epochs)"
   ]
  },
  {
   "cell_type": "code",
   "execution_count": 19,
   "metadata": {
    "colab": {
     "background_save": true
    },
    "id": "3htGtgttN5en"
   },
   "outputs": [
    {
     "data": {
      "image/png": "[encoded data removed]",
      "text/plain": [
       "<Figure size 1000x800 with 1 Axes>"
      ]
     },
     "metadata": {},
     "output_type": "display_data"
    }
   ],
   "source": [
    "plt.title('Loss curves')\n",
    "plt.plot(solver.train_loss_history, '-', label='train')\n",
    "plt.plot(solver.val_loss_history, '-', label='val')\n",
    "plt.legend(loc='lower right')\n",
    "plt.xlabel('Iteration')\n",
    "plt.show()"
   ]
  },
  {
   "cell_type": "code",
   "execution_count": 20,
   "metadata": {
    "colab": {
     "background_save": true
    },
    "id": "oOVafQ7yN5eo"
   },
   "outputs": [
    {
     "name": "stdout",
     "output_type": "stream",
     "text": [
      "Training accuray: 0.31200\n",
      "Validation accuray: 0.25701\n"
     ]
    }
   ],
   "source": [
    "print(\"Training accuray: %.5f\" % (solver.get_dataset_accuracy(train_loader)))\n",
    "print(\"Validation accuray: %.5f\" % (solver.get_dataset_accuracy(dataloaders['val'])))"
   ]
  },
  {
   "cell_type": "code",
   "execution_count": 21,
   "metadata": {
    "colab": {
     "background_save": true
    },
    "id": "vG9U5OmwN5eo"
   },
   "outputs": [
    {
     "name": "stdout",
     "output_type": "stream",
     "text": [
      "(Epoch 1 / 5) train loss: 2.305912; val loss: 2.305979\n",
      "(Epoch 2 / 5) train loss: 2.327428; val loss: 2.308302\n",
      "(Epoch 3 / 5) train loss: 2.318951; val loss: 2.320646\n",
      "(Epoch 4 / 5) train loss: 2.313579; val loss: 2.323224\n",
      "(Epoch 5 / 5) train loss: 2.318441; val loss: 2.314183\n"
     ]
    }
   ],
   "source": [
    "from exercise_code.networks import MyOwnNetwork\n",
    "\n",
    "num_layer = 5\n",
    "epochs = 5\n",
    "reg = 0.01\n",
    "\n",
    "model = ClassificationNet(num_layer=num_layer, reg=reg)\n",
    "#model = MyOwnNetwork(num_layer=num_layer, reg=reg)\n",
    "\n",
    "# Change here if you want to use the full training set\n",
    "use_full_training_set = False\n",
    "if not use_full_training_set:\n",
    "    train_loader = dataloaders['train_small']\n",
    "else:\n",
    "    train_loader = dataloaders['train']\n",
    "\n",
    "loss = CrossEntropyFromLogits()\n",
    "\n",
    "solver = Solver(model, train_loader, dataloaders['val'],\n",
    "                learning_rate=1e-3, loss_func=loss, optimizer=Adam)\n",
    "\n",
    "solver.train(epochs=epochs)"
   ]
  },
  {
   "cell_type": "code",
   "execution_count": 22,
   "metadata": {
    "colab": {
     "background_save": true
    },
    "id": "08XZk2GYN5eo"
   },
   "outputs": [
    {
     "data": {
      "image/png": "[encoded data removed]",
      "text/plain": [
       "<Figure size 1000x800 with 1 Axes>"
      ]
     },
     "metadata": {},
     "output_type": "display_data"
    }
   ],
   "source": [
    "plt.title('Loss curves')\n",
    "plt.plot(solver.train_loss_history, '-', label='train')\n",
    "plt.plot(solver.val_loss_history, '-', label='val')\n",
    "plt.legend(loc='lower right')\n",
    "plt.xlabel('Iteration')\n",
    "plt.show()"
   ]
  },
  {
   "cell_type": "code",
   "execution_count": 23,
   "metadata": {
    "colab": {
     "background_save": true
    },
    "id": "7-sI0yyWN5eo"
   },
   "outputs": [
    {
     "name": "stdout",
     "output_type": "stream",
     "text": [
      "Training accuray: 0.10500\n",
      "Validation accuray: 0.09826\n"
     ]
    }
   ],
   "source": [
    "print(\"Training accuray: %.5f\" % (solver.get_dataset_accuracy(train_loader)))\n",
    "print(\"Validation accuray: %.5f\" % (solver.get_dataset_accuracy(dataloaders['val'])))"
   ]
  },
  {
   "cell_type": "markdown",
   "metadata": {
    "id": "_nNdnSi4N5eo"
   },
   "source": [
    "As you can see from above, the same hyperparameter set can decrease the loss for a 2-layer network, but for 5-layer network, it hardly works.\n",
    "\n",
    "The steps above are already mentioned in the lectures as debugging steps before training a neural network.\n",
    "\n",
    "If you implement your own network, make sure you do the steps above before tuning the hyperparameters as below."
   ]
  },
  {
   "cell_type": "markdown",
   "metadata": {
    "id": "l0pZa4weN5eo"
   },
   "source": [
    "## 2.2 Difficulty in tuning hyperparameters\n",
    "Small decisions on hyperparameters count. Usually, but not always, hyperparameters cannot be learned using well known gradient based methods (such as gradient descent), which are commonly employed to learn parameters.\n",
    "\n",
    "As mentioned before, hyperparameters need to be set before training. Tuning hyperparameters is hard, because you always have to try different combinations of the hyperparameters, train the network, do the validation and pick the best one. Besides, it is not guaranteed that you'll find the best combination.\n",
    "\n",
    "Let's do some hands on learning using the hyperparameter tuning methods covered in the lectures."
   ]
  },
  {
   "cell_type": "markdown",
   "metadata": {
    "id": "pDQl6fY6N5ep"
   },
   "source": [
    "# 3. Hyperparameter Tuning\n",
    "\n",
    "![alt text](https://blog.floydhub.com/content/images/2018/08/Screen-Shot-2018-08-22-at-17.59.25.png \"\")\n",
    "\n",
    "One of the main challenges in deep learning is finding the set of hyperparameters that performs best.\n",
    "\n",
    "So far, we have followed a manual approach by guessing hyperparameters, running the model, observing the result and maybe tweaking the hyperparameters based on this result. As you have probably noticed, this manual hyperparameter tuning is unstructured, inefficient and can become very tedious.\n",
    "\n",
    "\n",
    "A more systematic (and actually very simple) approach for hyperparameter tuning that you've already learned in the lecture  is implementing a **Grid Search**.\n",
    "\n",
    "\n",
    "\n",
    "## 3.1 Grid Search\n",
    "Grid search is a simple and naive, yet effective method to automate the hyperparameter tuning:\n",
    "\n",
    "* First, you define the set of parameters you want to tune, e.g. $\\{learning\\_rate, regularization\\_strength\\}$.\n",
    "\n",
    "* For each hyperparameter, you then define a set of possible values, e.g. $learning\\_rate = \\{0.0001, 0.001, 0.01, 0.1\\}$.\n",
    "\n",
    "* Then, you train a model for every possible combination of these hyperparameter values and afterwards select the combination that works best (e.g. in terms of accuracy on your validation set).\n",
    "\n",
    "<div class=\"alert alert-success\">\n",
    "    <h3>Task: Check Code</h3>\n",
    "    <p>Check out our <code>grid_search</code> implementation in <code>../homework_05/exercise_code/hyperparameter_tuning.py</code>. We show a simple for loop implementation and a more sophisticated one for multiple inputs. </p>\n",
    "</div>\n",
    "\n",
    " <div class=\"alert alert-warning\">\n",
    "    <h3>Note:</h3>\n",
    "    <p>To keep things simple in the beginning, it'll be enough to just focus on the hyperparameters <code>learning_rate</code> and <code>regularization_strength</code> here, as in the example above.</p>\n",
    "</div>"
   ]
  },
  {
   "cell_type": "code",
   "execution_count": 24,
   "metadata": {
    "colab": {
     "background_save": true
    },
    "id": "BBW9Vl4rN5ep"
   },
   "outputs": [
    {
     "name": "stdout",
     "output_type": "stream",
     "text": [
      "\n",
      "Evaluating Config #1 [of 3]:\n",
      " {'learning_rate': 0.01, 'reg': 0.0001}\n",
      "(Epoch 1 / 10) train loss: 2.302778; val loss: 2.302379\n",
      "(Epoch 2 / 10) train loss: 2.550147; val loss: 2.526659\n",
      "(Epoch 3 / 10) train loss: 2.742277; val loss: 2.802318\n",
      "(Epoch 4 / 10) train loss: 2.879840; val loss: 3.099322\n",
      "(Epoch 5 / 10) train loss: 3.065223; val loss: 3.209329\n",
      "(Epoch 6 / 10) train loss: 3.191735; val loss: 3.213476\n",
      "Stopping early at epoch 5!\n",
      "\n",
      "Evaluating Config #2 [of 3]:\n",
      " {'learning_rate': 0.001, 'reg': 0.0001}\n",
      "(Epoch 1 / 10) train loss: 2.302776; val loss: 2.302850\n",
      "(Epoch 2 / 10) train loss: 2.188627; val loss: 2.018576\n",
      "(Epoch 3 / 10) train loss: 1.999532; val loss: 1.933551\n",
      "(Epoch 4 / 10) train loss: 1.898786; val loss: 1.913172\n",
      "(Epoch 5 / 10) train loss: 1.841185; val loss: 1.895190\n",
      "(Epoch 6 / 10) train loss: 1.769892; val loss: 1.923912\n",
      "(Epoch 7 / 10) train loss: 1.710098; val loss: 1.947048\n",
      "(Epoch 8 / 10) train loss: 1.638071; val loss: 1.934715\n",
      "(Epoch 9 / 10) train loss: 1.586175; val loss: 1.915408\n",
      "(Epoch 10 / 10) train loss: 1.517137; val loss: 1.933915\n",
      "Stopping early at epoch 9!\n",
      "\n",
      "Evaluating Config #3 [of 3]:\n",
      " {'learning_rate': 0.0001, 'reg': 0.0001}\n",
      "(Epoch 1 / 10) train loss: 2.302742; val loss: 2.302700\n",
      "(Epoch 2 / 10) train loss: 2.286272; val loss: 2.243366\n",
      "(Epoch 3 / 10) train loss: 2.212058; val loss: 2.153702\n",
      "(Epoch 4 / 10) train loss: 2.136847; val loss: 2.086200\n",
      "(Epoch 5 / 10) train loss: 2.075843; val loss: 2.034195\n",
      "(Epoch 6 / 10) train loss: 2.025140; val loss: 1.996724\n",
      "(Epoch 7 / 10) train loss: 1.980983; val loss: 1.980872\n",
      "(Epoch 8 / 10) train loss: 1.941590; val loss: 1.947735\n",
      "(Epoch 9 / 10) train loss: 1.904624; val loss: 1.928624\n",
      "(Epoch 10 / 10) train loss: 1.870713; val loss: 1.909161\n",
      "\n",
      "Search done. Best Val Loss = 1.8951895041339821\n",
      "Best Config: {'learning_rate': 0.001, 'reg': 0.0001}\n"
     ]
    }
   ],
   "source": [
    "from exercise_code.networks import MyOwnNetwork\n",
    "\n",
    "# Specify the used network\n",
    "model_class = ClassificationNet\n",
    "\n",
    "from exercise_code import hyperparameter_tuning\n",
    "best_model, results = hyperparameter_tuning.grid_search(\n",
    "    dataloaders['train_small'], dataloaders['val_500files'],\n",
    "    grid_search_spaces = {\n",
    "        \"learning_rate\": [1e-2, 1e-3, 1e-4],\n",
    "        \"reg\": [1e-4]\n",
    "    },\n",
    "    model_class=model_class,\n",
    "    epochs=10, patience=5)"
   ]
  },
  {
   "cell_type": "markdown",
   "metadata": {
    "id": "5v0g7q9xN5ep"
   },
   "source": [
    "From the results of your grid search, you might already have found some hyperparameter combinations that work better than others. A common practice is to now repeat the grid search on a more narrow domain centered around the parameters that worked best.\n",
    "\n",
    "**Conclusion Grid Search**\n",
    "\n",
    "With grid search we have automated the hyperparameter tuning to a certain degree. Another advantage is, that since the trainings of the models are independent of each other, you can parallelize the grid search, by e.g. trying out different hyperparameter configurations in parallel on different machines.\n",
    "\n",
    "However, as you have probably noticed, there is one big problem with this approach: the number of possible combinations grows exponentially with the number of hyperparameters (\"curse of dimensionality\"). As we add more hyperparameters to the grid search, the search space will explode in time complexity, making this strategy unfeasible."
   ]
  },
  {
   "cell_type": "markdown",
   "metadata": {
    "id": "m_NvhoFcN5ep"
   },
   "source": [
    "Especially when your search space contains more than 3 or 4 dimensions, it is often better to use another, similar hyperparameter tuning method that you've already learned about: random search."
   ]
  },
  {
   "cell_type": "markdown",
   "metadata": {
    "id": "rDyeiAN1N5ep"
   },
   "source": [
    "## 3.2 Random Search\n",
    "Random search is very similar to grid search, with the only difference, that instead of providing specific values for every hyperparameter, you only define a range for each hyperparameter - then, the values are sampled randomly from the provided ranges.\n",
    "\n",
    "![alt text](https://i.stack.imgur.com/cIDuR.png \"\")\n",
    "\n",
    "The figure above illustrates the difference in the hyperparameter space exploration between grid search and random search: assume you have 2 hyperparameters with each 3 values. Running a grid search results in training $3^2=9$ different models - but in the end, you've just tired out 3 values for each parameter. For random search on the other hand, after training 9 models you'll have tried out 9 different values for each hyperparameter, which often leads much faster to good results.\n",
    "\n",
    "To get a deeper understanding of random search and why it is more efficient than grid search, you should definitely check out this paper: http://www.jmlr.org/papers/volume13/bergstra12a/bergstra12a.pdf\n",
    "\n",
    "<div class=\"alert alert-success\">\n",
    "    <h3>Task: Check Code</h3>\n",
    "    <p>Check out our <code>random_search</code> implementation in <code>../homework_05/exercise_code/hyperparameter_tuning.py</code></p>\n",
    "</div>\n",
    "\n",
    "\n",
    "*Hint: regarding the sample space of each parameter, think about the scale for which it makes most sense to sample in. For example the learning rate is usually sampled on a logarithmic scale.*\n",
    "\n",
    "*For simplicity and speed, just use the `train_batches`-dataloader.*"
   ]
  },
  {
   "cell_type": "code",
   "execution_count": 25,
   "metadata": {
    "colab": {
     "background_save": true
    },
    "id": "d64soT68N5ep"
   },
   "outputs": [
    {
     "name": "stdout",
     "output_type": "stream",
     "text": [
      "\n",
      "Evaluating Config #1 [of 1]:\n",
      " {'learning_rate': 2.3254360892672014e-06, 'reg': 9.621805928415956e-05, 'loss_func': <exercise_code.networks.loss.CrossEntropyFromLogits object at 0x13d269790>}\n",
      "(Epoch 1 / 20) train loss: 2.302945; val loss: 2.302427\n",
      "(Epoch 2 / 20) train loss: 2.302784; val loss: 2.301993\n",
      "(Epoch 3 / 20) train loss: 2.302251; val loss: 2.301604\n",
      "(Epoch 4 / 20) train loss: 2.301711; val loss: 2.301132\n",
      "(Epoch 5 / 20) train loss: 2.301160; val loss: 2.300660\n",
      "(Epoch 6 / 20) train loss: 2.300568; val loss: 2.300114\n",
      "(Epoch 7 / 20) train loss: 2.299916; val loss: 2.299494\n",
      "(Epoch 8 / 20) train loss: 2.299211; val loss: 2.298851\n",
      "(Epoch 9 / 20) train loss: 2.298428; val loss: 2.298131\n",
      "(Epoch 10 / 20) train loss: 2.297571; val loss: 2.297189\n",
      "(Epoch 11 / 20) train loss: 2.296627; val loss: 2.296294\n",
      "(Epoch 12 / 20) train loss: 2.295635; val loss: 2.295227\n",
      "(Epoch 13 / 20) train loss: 2.294528; val loss: 2.294160\n",
      "(Epoch 14 / 20) train loss: 2.293365; val loss: 2.292868\n",
      "(Epoch 15 / 20) train loss: 2.292108; val loss: 2.291597\n",
      "(Epoch 16 / 20) train loss: 2.290771; val loss: 2.290115\n",
      "(Epoch 17 / 20) train loss: 2.289366; val loss: 2.288649\n",
      "(Epoch 18 / 20) train loss: 2.287909; val loss: 2.287040\n",
      "(Epoch 19 / 20) train loss: 2.286379; val loss: 2.285351\n",
      "(Epoch 20 / 20) train loss: 2.284790; val loss: 2.283607\n",
      "\n",
      "Search done. Best Val Loss = 2.283606651581666\n",
      "Best Config: {'learning_rate': 2.3254360892672014e-06, 'reg': 9.621805928415956e-05, 'loss_func': <exercise_code.networks.loss.CrossEntropyFromLogits object at 0x13d269790>}\n"
     ]
    }
   ],
   "source": [
    "from exercise_code.hyperparameter_tuning import random_search\n",
    "from exercise_code.networks import MyOwnNetwork\n",
    "\n",
    "# Specify the used network\n",
    "model_class = ClassificationNet\n",
    "\n",
    "best_model, results = random_search(\n",
    "    dataloaders['train_small'], dataloaders['val_500files'],\n",
    "    random_search_spaces = {\n",
    "        \"learning_rate\": ([1e-2, 1e-6], 'log'),\n",
    "        \"reg\": ([1e-3, 1e-7], \"log\"),\n",
    "        \"loss_func\": ([CrossEntropyFromLogits()], \"item\")\n",
    "    },\n",
    "    model_class=model_class,\n",
    "    num_search = 1, epochs=20, patience=5)"
   ]
  },
  {
   "cell_type": "markdown",
   "metadata": {
    "id": "LayF5YYbN5eq"
   },
   "source": [
    "It's time to run it with the whole dataset, and let it search for a few hours for a nice configuration.\n",
    "\n",
    "However, to save some time, let's first implement an **early-stopping** mechanism, that you also already know from the lecture."
   ]
  },
  {
   "cell_type": "markdown",
   "metadata": {
    "id": "DCaACnn3N5eq"
   },
   "source": [
    "## 3.3 Early Stopping"
   ]
  },
  {
   "cell_type": "markdown",
   "metadata": {
    "id": "IjsO1OPLN5eq"
   },
   "source": [
    "By now you've already seen a lot of training curves:\n",
    "\n",
    "<img src=http://fouryears.eu/wp-content/uploads/2017/12/early_stopping.png></img>\n",
    "\n",
    "Usually, at some point the validation loss goes up again, which is a sign that we're overfitting to our training data. Since it actually doesn't make sense to train further at this point, it's common practice to apply \"early stopping\", i.e., cancel the training process when the validation loss doesn't improve anymore. The nice thing about this concept is, that not only it improves generalization through the prevention of overfitting, but also it saves us a lot of time - one of our most valuable resources in deep learning.\n",
    "\n",
    "Since there are natural fluctuations in the validation loss, you usually don't cancel the training process right at the first epoch when the validation-loss increases, but instead, you wait for some epochs (specified by the `patience`-parameter) and if the loss still doesn't improve, we stop.\n",
    "\n",
    "<div class=\"alert alert-success\">\n",
    "    <h3>Task: Check Code</h3>\n",
    "    <p>Please check the implementation of the early stopping mechanism in <code>../exercise_6/exercise_code/solver.py</code>.\n",
    " </p>\n",
    "</div>"
   ]
  },
  {
   "cell_type": "markdown",
   "metadata": {
    "id": "P8wWTovfN5eq"
   },
   "source": [
    "## 3.4 Let's find the best model"
   ]
  },
  {
   "cell_type": "markdown",
   "metadata": {
    "id": "ksUYQAhgN5eq"
   },
   "source": [
    "Now you've set everything up and you are ready to train your model. You can use a combination of grid and random search to find proper hyperparameters.\n",
    "\n",
    "Be aware that this process will take some time, since we'll be using a much larger dataset.\n",
    "\n",
    "At the beginning, it is a good approach to do a coarse random search across a wide range of values to find promising sub-ranges of your parameter space. Afterwards, you can zoom into these ranges and perform another random search (or grid search) to finetune the configurations.\n",
    "\n",
    "To save time and resources, don't use the whole dataset at the beginning, but instead a medium large subset of the samples. Also, you don't have to train for a large number of epochs - as mentioned above: we first want to get an overview about our hyper parameters.\n",
    "\n",
    "<div class=\"alert alert-info\">\n",
    "    <h3>Task: Hyperparameters Tunning & Model Training </h3>\n",
    "        <p> Now, it is your turn to do the hyperparamater tuning. In the cell below, you can use the <code>random_search</code> function to find a good choice of parameters. Put in some reasonable ranges for the hyperparameters and evaluate them.\n",
    "    <p> <b>Note:</b> At the beginning, it's a good approach to first do a coarse random search across a <b> wide range of values</b> to find promising sub-ranges of your parameter space and use <b> a medium large subset of the dataset </b>. Afterwards, you can zoom into these ranges and do another random search (or grid search) to finetune the configurations. Use the cell below to play around and find good hyperparameters for your model.</p>\n",
    "        <p> Finally, once you've found some promising hyperparameters (or narrowed them down to promising subranges), it's time to utilize these hyperparameters to train your network on the whole dataset for a large number of epochs so that your own model can reach an acceptable performance.\n",
    "        <p> <b>Hint:</b> You may use a <code>Solver</code> class we provided before or directly use the <code>random_search</code> function (as you can also monitor the loss here) for model training.\n",
    "</div>"
   ]
  },
  {
   "cell_type": "code",
   "execution_count": 45,
   "metadata": {
    "colab": {
     "background_save": true
    },
    "id": "g2C24gzzN5eq"
   },
   "outputs": [
    {
     "name": "stdout",
     "output_type": "stream",
     "text": [
      "\n",
      "Evaluating Config #1 [of 1]:\n",
      " {'learning_rate': 0.0001, 'reg': 1e-05, 'num_layers': 35, 'hidden_size': 700, 'activation': <exercise_code.networks.layer.LeakyRelu object at 0x10f215250>, 'optimizer': <class 'exercise_code.networks.optimizer.Adam'>}\n",
      "(Epoch 1 / 50) train loss: 2.302637; val loss: 2.302628\n",
      "(Epoch 2 / 50) train loss: 1.982918; val loss: 1.813399\n",
      "(Epoch 3 / 50) train loss: 1.724017; val loss: 1.690943\n",
      "(Epoch 4 / 50) train loss: 1.622183; val loss: 1.618488\n",
      "(Epoch 5 / 50) train loss: 1.554028; val loss: 1.580277\n",
      "(Epoch 6 / 50) train loss: 1.499405; val loss: 1.553442\n",
      "(Epoch 7 / 50) train loss: 1.454845; val loss: 1.522473\n",
      "(Epoch 8 / 50) train loss: 1.415146; val loss: 1.506534\n",
      "(Epoch 9 / 50) train loss: 1.381314; val loss: 1.489067\n",
      "(Epoch 10 / 50) train loss: 1.345853; val loss: 1.472874\n",
      "(Epoch 11 / 50) train loss: 1.312977; val loss: 1.462228\n",
      "(Epoch 12 / 50) train loss: 1.282654; val loss: 1.453231\n",
      "(Epoch 13 / 50) train loss: 1.254546; val loss: 1.443312\n",
      "(Epoch 14 / 50) train loss: 1.223819; val loss: 1.435681\n",
      "(Epoch 15 / 50) train loss: 1.198520; val loss: 1.435953\n",
      "(Epoch 16 / 50) train loss: 1.171987; val loss: 1.428132\n",
      "(Epoch 17 / 50) train loss: 1.145599; val loss: 1.423855\n",
      "(Epoch 18 / 50) train loss: 1.120194; val loss: 1.418507\n",
      "(Epoch 19 / 50) train loss: 1.097533; val loss: 1.419491\n",
      "(Epoch 20 / 50) train loss: 1.072808; val loss: 1.411546\n",
      "(Epoch 21 / 50) train loss: 1.050217; val loss: 1.411025\n",
      "(Epoch 22 / 50) train loss: 1.025884; val loss: 1.419046\n",
      "(Epoch 23 / 50) train loss: 1.002949; val loss: 1.408905\n",
      "(Epoch 24 / 50) train loss: 0.979645; val loss: 1.416744\n",
      "(Epoch 25 / 50) train loss: 0.958646; val loss: 1.415543\n",
      "(Epoch 26 / 50) train loss: 0.935866; val loss: 1.422120\n",
      "(Epoch 27 / 50) train loss: 0.915205; val loss: 1.424467\n",
      "(Epoch 28 / 50) train loss: 0.895017; val loss: 1.418560\n",
      "Stopping early at epoch 27!\n",
      "\n",
      "Search done. Best Val Loss = 1.4089051184447938\n",
      "Best Config: {'learning_rate': 0.0001, 'reg': 1e-05, 'num_layers': 35, 'hidden_size': 700, 'activation': <exercise_code.networks.layer.LeakyRelu object at 0x10f215250>, 'optimizer': <class 'exercise_code.networks.optimizer.Adam'>}\n"
     ]
    }
   ],
   "source": [
    "from exercise_code.networks import MyOwnNetwork\n",
    "\n",
    "best_model = ClassificationNet()\n",
    "#best_model = MyOwnNetwork()\n",
    "\n",
    "########################################################################\n",
    "# TODO:                                                                #\n",
    "# Implement your own neural network and find suitable hyperparameters  #\n",
    "# Be sure to edit the MyOwnNetwork class in the following code snippet #\n",
    "# to upload the correct model                                          #\n",
    "########################################################################\n",
    "from exercise_code.networks.optimizer import (\n",
    "    Adam\n",
    ")\n",
    "\n",
    "best_model, results = random_search(\n",
    "    dataloaders['train'], dataloaders['val'],\n",
    "    random_search_spaces = {\n",
    "        \"learning_rate\": ([1e-4], 'log'),\n",
    "        \"reg\": ([1e-5], \"log\"),\n",
    "        'num_layers': ([35], \"int\"),\n",
    "        'hidden_size': ([700], \"int\"),\n",
    "        \"activation\": ([LeakyRelu()], \"item\"),\n",
    "        \"optimizer\": ([Adam], \"item\")\n",
    "    },\n",
    "    model_class=model_class,\n",
    "    num_search = 1, epochs=50, patience=5)\n",
    "\n",
    "########################################################################\n",
    "#                           END OF YOUR CODE                           #\n",
    "########################################################################"
   ]
  },
  {
   "cell_type": "markdown",
   "metadata": {
    "id": "gmZbWaaIN5er"
   },
   "source": [
    "Now it's time to edit the ranges above and adjust them to explore regions that performed well.\n",
    "\n",
    "Feel free to experiment around. Other hyperparameters you can change are the network architecture, optimizer, activations functions and many more. Try to get an accuracy as high as possible."
   ]
  },
  {
   "cell_type": "markdown",
   "metadata": {
    "id": "mJZ7UXHeN5er"
   },
   "source": [
    "## 3.5 Checking the validation accuracy"
   ]
  },
  {
   "cell_type": "code",
   "execution_count": 46,
   "metadata": {
    "colab": {
     "background_save": true
    },
    "id": "qPyHczNJN5er"
   },
   "outputs": [
    {
     "name": "stdout",
     "output_type": "stream",
     "text": [
      "Train Accuracy: 72.86658653846155%\n",
      "Validation Accuracy: 52.32371794871795%\n"
     ]
    }
   ],
   "source": [
    "labels, pred, acc = best_model.get_dataset_prediction(dataloaders['train'])\n",
    "print(\"Train Accuracy: {}%\".format(acc*100))\n",
    "labels, pred, acc = best_model.get_dataset_prediction(dataloaders['val'])\n",
    "print(\"Validation Accuracy: {}%\".format(acc*100))"
   ]
  },
  {
   "cell_type": "markdown",
   "metadata": {
    "id": "MQ_AGtp8N5er"
   },
   "source": [
    "# 4. Test your model\n",
    "When you have finished the hyperparameter tuning and you found your final model which performs well on the validation set (**you should at least get 48% accuracy on the validation set!**), it's time to run your model on the test set.\n",
    "\n",
    "<div class=\"alert alert-danger\">\n",
    "    <h3>Important</h3>\n",
    "    <p>As you have learned in the lecture, you must only use the test set once! So only run the next cell if you are completely sure that your model works well enough and that you are ready to submit.\n",
    "</div>"
   ]
  },
  {
   "cell_type": "code",
   "execution_count": 47,
   "metadata": {
    "colab": {
     "background_save": true
    },
    "id": "xJ2lwiVUN5er"
   },
   "outputs": [
    {
     "name": "stdout",
     "output_type": "stream",
     "text": [
      "Test Accuracy: 51.96314102564102%\n"
     ]
    }
   ],
   "source": [
    "# comment this part out to see your model's performance on the test set.\n",
    "labels, pred, acc = best_model.get_dataset_prediction(dataloaders['test'])\n",
    "print(\"Test Accuracy: {}%\".format(acc*100))\n"
   ]
  },
  {
   "cell_type": "markdown",
   "metadata": {
    "id": "2lOy_GulN5es"
   },
   "source": [
    "# 5. Saving your Model"
   ]
  },
  {
   "cell_type": "code",
   "execution_count": 41,
   "metadata": {
    "colab": {
     "background_save": true
    },
    "id": "icgNMAlEN5es"
   },
   "outputs": [],
   "source": [
    "from exercise_code.tests import save_pickle\n",
    "save_pickle({\"cifar_fcn\": best_model}, \"cifar_fcn.p\")"
   ]
  },
  {
   "cell_type": "markdown",
   "metadata": {
    "id": "9vn3DnECHS1z"
   },
   "source": [
    "# Submission Instructions\n",
    "\n",
    "Now, that you have completed the necessary parts in the notebook, you can go on and submit your files.\n",
    "\n",
    "1. Execute the cell below to create a zipped folder for upload.\n",
    "2. Upload the zip to moodle."
   ]
  },
  {
   "cell_type": "code",
   "execution_count": 42,
   "metadata": {
    "colab": {
     "background_save": true
    },
    "id": "Gd4TchGlN5es"
   },
   "outputs": [
    {
     "name": "stdout",
     "output_type": "stream",
     "text": [
      "relevant folders: ['exercise_code', 'models']\n",
      "notebooks files: ['1.cifar10_classification.ipynb']\n",
      "Adding folder exercise_code\n",
      "Adding folder models\n",
      "Adding notebook 1.cifar10_classification.ipynb\n",
      "Zipping successful! Zip is stored under: /Users/tigrangaplanyan/Downloads/DL_homeworks/output/homework_05.zip\n"
     ]
    }
   ],
   "source": [
    "from exercise_code.submit import submit_exercise\n",
    "\n",
    "submit_exercise('../output/homework_05')"
   ]
  },
  {
   "cell_type": "markdown",
   "metadata": {
    "id": "q5C_bKa5N5es"
   },
   "source": [
    "# Submission Goals\n",
    "\n",
    "- Goal: Successfully implement a fully connected NN image classifier and tune the hyperparameters.\n",
    "\n",
    "- This time, there are no unit tests checking specific components of your code. To get a high grade, your model needs to reach at least **48% accuracy** on the validation dataset.\n",
    "\n",
    "- Submission deadline : __Oct 18, 2022 23:59__\n",
    "- You can make many submissions until the deadline, only the last submission will be considered."
   ]
  },
  {
   "cell_type": "code",
   "execution_count": null,
   "metadata": {
    "id": "wTXHN9AVHbsz"
   },
   "outputs": [],
   "source": []
  }
 ],
 "metadata": {
  "colab": {
   "collapsed_sections": [
    "WKNRU4BWN5eg",
    "3MhxqP2LN5ej",
    "dbFSP4z9N5ek",
    "0TE2PxMBN5ek",
    "QUFotyERN5ek",
    "l0pZa4weN5eo",
    "rDyeiAN1N5ep",
    "DCaACnn3N5eq",
    "P8wWTovfN5eq",
    "mJZ7UXHeN5er"
   ],
   "provenance": []
  },
  "kernelspec": {
   "display_name": "Python 3 (ipykernel)",
   "language": "python",
   "name": "python3"
  },
  "language_info": {
   "codemirror_mode": {
    "name": "ipython",
    "version": 3
   },
   "file_extension": ".py",
   "mimetype": "text/x-python",
   "name": "python",
   "nbconvert_exporter": "python",
   "pygments_lexer": "ipython3",
   "version": "3.11.4"
  }
 },
 "nbformat": 4,
 "nbformat_minor": 1
}
