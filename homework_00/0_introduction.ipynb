{
  "cells": [
    {
      "cell_type": "markdown",
      "metadata": {
        "id": "T3Xvg9GPYh2r"
      },
      "source": [
        "# Introduction to Google Colab and the general structure to our Homeworks\n",
        "\n",
        "\n",
        "\n",
        "In this homework you will:\n",
        "\n",
        "- Optional: Learn how to set up Google Colab for our exercises\n",
        "- Learn how to work with IPython notebooks\n",
        "- Get a small numpy introduction\n",
        "- Learn about our submission pipeline\n",
        "\n",
        "Execute a selected cell with `Shift + Enter`."
      ]
    },
    {
      "cell_type": "markdown",
      "metadata": {
        "id": "4AiNz7NnYh2w"
      },
      "source": [
        "# (Optional) Set up Google Colab\n",
        "\n",
        "If you lack resources CPU or GPU resources to finish an exercise, you can also use your google account to access [google colab](https://colab.research.google.com/) which provides an already set up python environment as well as free resources for training.\n",
        "\n",
        "In order to use google colab follow these steps:\n",
        "1. Access your [google drive](https://drive.google.com/) and upload your folder that contains the respective homeworks/datasets etc. in the main directory\n",
        "![colab_folder](https://drive.google.com/uc?id=19XwdMQGBevtb1JgAO2xrJhugjYrI4EQU)\n",
        "2. Open the homework folder and select the notebook you want to open in google colab\n",
        "![colab_start_notebook](https://drive.google.com/uc?id=1elBBirmGMqHnDKYlTzu_AdnN5__5udAc)\n",
        "3. Execute the cell below to mount your gdrive folder. You have to allow google colab to access your folder in the pop up box and sign in to your account once more\n",
        "4. Done, the notebook is now ready to be used with google colab and you can start executing cells from the top of the notebook as desired\n",
        "![colab_done](https://drive.google.com/uc?id=1V2KQE_3FOVE7LSdUk7tcpOTkJVV6avh-)"
      ]
    },
    {
      "cell_type": "code",
      "source": [
        "from google.colab import drive\n",
        "drive.mount('/content/drive')"
      ],
      "metadata": {
        "id": "xyTkXVunZRiN"
      },
      "execution_count": null,
      "outputs": []
    },
    {
      "cell_type": "markdown",
      "metadata": {
        "id": "A-UN22bTYh2y"
      },
      "source": [
        "## (Optional) Mount folder in Colab\n",
        "\n",
        "Uncomment the following cell to mount your gdrive if you are using the notebook in google colab:"
      ]
    },
    {
      "cell_type": "code",
      "execution_count": null,
      "metadata": {
        "id": "DdIOjsXmYh2z"
      },
      "outputs": [],
      "source": [
        "from google.colab import drive\n",
        "import os\n",
        "\n",
        "gdrive_path='/content/gdrive/MyDrive/DL_homeworks/homework_00'\n",
        "\n",
        "# This will mount your google drive under 'MyDrive'\n",
        "drive.mount('/content/gdrive', force_remount=True)\n",
        "# In order to access the files in this notebook we have to navigate to the correct folder\n",
        "os.chdir(gdrive_path)\n",
        "# Let's test the setup by simply checking if all paths are present\n",
        "present = True\n",
        "necessary_paths= ['exercise_code']\n",
        "files = os.listdir()\n",
        "for path in necessary_paths:\n",
        "    if path not in files:\n",
        "        present = False\n",
        "if not present:\n",
        "    print(\"Can't find all required folders. You either installed the notebook in the wrong path or didn't upload the full exercise folder. You can check your paths in the file overview on the left.\")\n",
        "else:\n",
        "    print('Google colab setup complete! Mounted folders:')\n",
        "    print(files)"
      ]
    },
    {
      "cell_type": "markdown",
      "metadata": {
        "id": "PSJUxVpNYh21"
      },
      "source": [
        "## 1. IPython Notebooks\n",
        "An IPython notebook is made up of a number of cells. Each cell can contain Python code. You can execute a cell by clicking on it and pressing `Shift-Enter`. When you do so, the code in the cell will be executed, and the output of the cell will be displayed beneath the cell. For example, after running the first cell the notebook looks like this:"
      ]
    },
    {
      "cell_type": "code",
      "execution_count": null,
      "metadata": {
        "id": "IOa1Gy7zYh22"
      },
      "outputs": [],
      "source": [
        "x = 5\n",
        "print(x+3)"
      ]
    },
    {
      "cell_type": "markdown",
      "metadata": {
        "id": "wq_J6nIuYh23"
      },
      "source": [
        "Global variables are shared between cells. Therefore, we can access `x` in the next cell."
      ]
    },
    {
      "cell_type": "code",
      "execution_count": null,
      "metadata": {
        "id": "rnSXIRsOYh23"
      },
      "outputs": [],
      "source": [
        "print(x+10)"
      ]
    },
    {
      "cell_type": "markdown",
      "metadata": {
        "id": "KE4lkOKlYh25"
      },
      "source": [
        "By convention, IPython notebooks are expected to be run from top to bottom. Failing to execute some cells or executing cells out of order can result in errors:"
      ]
    },
    {
      "cell_type": "code",
      "execution_count": null,
      "metadata": {
        "id": "H05JJf-OYh26"
      },
      "outputs": [],
      "source": [
        "# This does not work\n",
        "print(x+y)"
      ]
    },
    {
      "cell_type": "code",
      "execution_count": null,
      "metadata": {
        "id": "BXDRVN4UYh26"
      },
      "outputs": [],
      "source": [
        "# After executing this cell, you can re-evaluate the cell above\n",
        "y = 3"
      ]
    },
    {
      "cell_type": "markdown",
      "metadata": {
        "id": "Y578h7xkYh27"
      },
      "source": [
        "You can edit cells by double clicking them (the color on the left changes from blue to green) and change the text (not really useful) or code (will be useful)."
      ]
    },
    {
      "cell_type": "code",
      "execution_count": null,
      "metadata": {
        "id": "zz55ejOyYh28"
      },
      "outputs": [],
      "source": [
        "print('I have not changed the cell')"
      ]
    },
    {
      "cell_type": "markdown",
      "metadata": {
        "id": "2b43ZqYmYh28"
      },
      "source": [
        "Please make sure that you are using the correct python environment. You can print out the environment path with the following cell. If you use python2 to work on the exercises and submit your model, you will encounter errors."
      ]
    },
    {
      "cell_type": "code",
      "execution_count": null,
      "metadata": {
        "id": "BLP5DPtMYh29"
      },
      "outputs": [],
      "source": [
        "import sys\n",
        "print(sys.version)\n",
        "if sys.version_info <= (3, 7):\n",
        "    print(\"you are using an older version of python. We expect python 3.7.x \\nYou can continue with your version but it might cause some issues\")"
      ]
    },
    {
      "cell_type": "markdown",
      "metadata": {
        "id": "gYk6dGrlYh2-"
      },
      "source": [
        "After you have modified an IPython notebook for one of the assignments by modifying or executing some of its cells, remember to __save your changes__!"
      ]
    },
    {
      "cell_type": "markdown",
      "metadata": {
        "id": "W-AxVWyxYh2_"
      },
      "source": [
        "\n",
        "## 2. Imports\n",
        "\n",
        "We start every notebook with a cell containg the important imports. So the first cell of every notebook is the import cell, as this needs to be executed before running any code.\n"
      ]
    },
    {
      "cell_type": "code",
      "execution_count": null,
      "metadata": {
        "id": "mSy-1WPSYh3A"
      },
      "outputs": [],
      "source": [
        "import time\n",
        "import os\n",
        "import random\n",
        "import math\n",
        "import numpy as np\n",
        "import matplotlib.pyplot as plt\n",
        "import numpy as np\n",
        "from PIL import Image\n",
        "%matplotlib inline\n",
        "plt.rcParams['figure.figsize'] = (7.0, 5.0) # set default size of plots\n",
        "plt.rcParams['image.interpolation'] = 'nearest'\n",
        "plt.rcParams['image.cmap'] = 'gray'\n",
        "\n",
        "# for auto-reloading external modules\n",
        "# see http://stackoverflow.com/questions/1907993/autoreload-of-modules-in-ipython\n",
        "%load_ext autoreload\n",
        "%autoreload 2"
      ]
    },
    {
      "cell_type": "markdown",
      "metadata": {
        "id": "m7BlJA7PYh3B"
      },
      "source": [
        "# 3. Numpy Introduction\n",
        "\n",
        "Numpy is a high performance framework for operations on multi dimensional arrays. It would be a nice tool in your kitty for working on later exercises and your life as a Data Scientist in general. "
      ]
    },
    {
      "cell_type": "code",
      "execution_count": null,
      "metadata": {
        "id": "nJjsF0VrYh3B"
      },
      "outputs": [],
      "source": [
        "# Create a simple (2, 3) numpy array\n",
        "# [[ 1  2  3]\n",
        "#  [ 4  5  6]]\n",
        "a = np.array([[1,2,3], [4,5,6]])\n",
        "\n",
        "# Print the data type of this array\n",
        "print(a.dtype)\n",
        "\n",
        "# print the shape of this array\n",
        "print(a.shape)"
      ]
    },
    {
      "cell_type": "code",
      "execution_count": null,
      "metadata": {
        "id": "ATqFyd5EYh3C"
      },
      "outputs": [],
      "source": [
        "# Slicing operation \n",
        "# Let us take the first two columns from the original array and save it in a new one\n",
        "b = a[:, :2]\n",
        "print(b)\n",
        "print(b.shape)"
      ]
    },
    {
      "cell_type": "code",
      "execution_count": null,
      "metadata": {
        "id": "MseP43vJYh3C"
      },
      "outputs": [],
      "source": [
        "# Select elements which satisfy a condition\n",
        "# Using numpy array makes such a selection trivial\n",
        "mask = a > 1\n",
        "new_array = a[mask]\n",
        "new_array"
      ]
    },
    {
      "cell_type": "code",
      "execution_count": null,
      "metadata": {
        "id": "0GPCKBxzYh3D"
      },
      "outputs": [],
      "source": [
        "# Do the same thing in a single step\n",
        "c = a[a>1]\n",
        "assert np.all(new_array == c) #  np.all() to indicate that all the values need to match"
      ]
    },
    {
      "cell_type": "code",
      "execution_count": null,
      "metadata": {
        "id": "qcbeGWEJYh3D"
      },
      "outputs": [],
      "source": [
        "# Mathematical operations\n",
        "x = np.array([[1,2],[3,4]])\n",
        "y = np.array([[5,6],[7,8]])\n",
        "\n",
        "# Elementwise sum; both produce the array\n",
        "# [[ 6.0  8.0]\n",
        "#  [10.0 12.0]]\n",
        "print(x + y)\n",
        "print(np.add(x, y))\n",
        "\n",
        "# Elementwise difference; both produce the array\n",
        "# [[-4.0 -4.0]\n",
        "#  [-4.0 -4.0]]\n",
        "print(x - y)\n",
        "print(np.subtract(x, y))\n",
        "\n",
        "# Elementwise product; both produce the array\n",
        "# [[ 5.0 12.0]\n",
        "#  [21.0 32.0]]\n",
        "print(x * y)\n",
        "print(np.multiply(x, y))\n",
        "\n",
        "# Elementwise division; both produce the array\n",
        "# [[ 0.2         0.33333333]\n",
        "#  [ 0.42857143  0.5       ]]\n",
        "print(x / y)\n",
        "print(np.divide(x, y))"
      ]
    },
    {
      "cell_type": "code",
      "execution_count": null,
      "metadata": {
        "id": "BePy_PojYh3E"
      },
      "outputs": [],
      "source": [
        "# Element wise operations\n",
        "# Elementwise square root; produces the array\n",
        "# [[ 1.          1.41421356]\n",
        "#  [ 1.73205081  2.        ]]\n",
        "print(np.sqrt(x))\n",
        "\n",
        "# Element wise exponential operation\n",
        "#[[ 2.71828183  7.3890561 ]\n",
        "#  [20.08553692 54.59815003]] \n",
        "print(np.exp(x))"
      ]
    },
    {
      "cell_type": "markdown",
      "metadata": {
        "id": "NkVRQheFYh3E"
      },
      "source": [
        "A detailed summary of numpy is beyond the scope of this assignment. Please take a look at http://docs.scipy.org/doc/numpy/reference/ for further reference. For this exercise, the tasks we have covered should be enough."
      ]
    },
    {
      "cell_type": "markdown",
      "metadata": {
        "id": "LBQD5mfCYh3E"
      },
      "source": [
        "## 4. Notebook convenience\n",
        "One of the convenient things about jupyter notebooks is the ability to display images, instructions and guide your thought process. You will not have any new clanky windows opening up and everything shall be inline."
      ]
    },
    {
      "cell_type": "code",
      "execution_count": null,
      "metadata": {
        "id": "vA_P2ZboYh3E"
      },
      "outputs": [],
      "source": [
        "# Load the image first\n",
        "image = Image.open('images/sample_image.jpg')\n",
        "plt.imshow(image)"
      ]
    },
    {
      "cell_type": "markdown",
      "metadata": {
        "id": "dyJQ0kpLYh3F"
      },
      "source": [
        "<div class=\"alert alert-info\">\n",
        "    <h3>Inline Question</h3>\n",
        "    <p>Sometimes we ask inline questions. They should help you to think about the subject that are relevant for the exam.</p>\n",
        "    <p>**Your answer:** You can write your answer here to save it in the ipython notebook so you can review it before the exam. Double click a cell to edit it and enter your answer.</p>\n",
        "</div>"
      ]
    },
    {
      "cell_type": "markdown",
      "metadata": {
        "id": "U7ebmcUUYh3F"
      },
      "source": [
        "## 5. External Files\n",
        "Most of your work will involve implementing certain functions in external python files. You can either open external files here in jupter notebook or edit them with your favourite text or python editor.\n",
        "\n",
        "All files you will have to edit are contained in the `exercise_code` folder. Check out the `Dummy` class in `exercise_code/networks/dummy.py`."
      ]
    },
    {
      "cell_type": "code",
      "execution_count": null,
      "metadata": {
        "id": "PWVHyMAMYh3F"
      },
      "outputs": [],
      "source": [
        "from exercise_code.networks.dummy import Dummy\n",
        "# Instantiate a \"model\"\n",
        "model = Dummy()"
      ]
    },
    {
      "cell_type": "markdown",
      "metadata": {
        "id": "eT-UvsxWYh3F"
      },
      "source": [
        "## 6. Dummy Machine\n",
        "\n",
        "Usually, we ask you to train and submit models. You don't need to train anything fancy in this exercise, this is just a sample code to familarize you with the file structure and your future tasks.\n",
        "\n",
        "You need to make some changes to the `forward()` method in `homework_00/exercise_code/networks/dummy.py`and set `x` to any integer that is larger than 59. We highlight all locations where you should modify the code with boxes in the respective files.\n",
        "\n",
        "<div class=\"alert alert-danger\">\n",
        "    <h3>Warning: Don't modify code outside your assigned boxes</h3>\n",
        "    <p>Make sure that you don't mutate, rename or remove classes or functions outside the respective assigned boxes!</p><p> You can add new functions if you so desire and feel the need of having them structured outside of our respective boxes but besides later exercises these shouldn't be required.</p>\n",
        "</div>"
      ]
    },
    {
      "cell_type": "markdown",
      "metadata": {
        "id": "f1ISlQmXYh3G"
      },
      "source": [
        "In this submission you get a score depending upon the number of test cases you pass. Usually, the total points you can secure is between __0 - 100__. For this exercise, you have __one test cases__ which depends on the output of the `forward()` function. You can check the `homework_00/exercise_code/tests` folder to have a general feel about the unit tests. "
      ]
    },
    {
      "cell_type": "code",
      "execution_count": null,
      "metadata": {
        "id": "QwMwpzAWYh3G"
      },
      "outputs": [],
      "source": [
        "from exercise_code.tests.dummy_tests import DummyTest\n",
        "\n",
        "test_cases = DummyTest(model)\n",
        "test_cases()"
      ]
    },
    {
      "cell_type": "markdown",
      "metadata": {
        "id": "lsNzBmVlYh3G"
      },
      "source": [
        "## 7. Model Saving\n",
        "Now you need to save the model. We provide you with all the functionality, so you will only need to execute the next cell."
      ]
    },
    {
      "cell_type": "code",
      "execution_count": null,
      "metadata": {
        "id": "y7FE54IxYh3H"
      },
      "outputs": [],
      "source": [
        "model.save_model()"
      ]
    },
    {
      "cell_type": "markdown",
      "metadata": {
        "id": "ITqUOKYnYh3H"
      },
      "source": [
        "<div class=\"alert alert-danger\">\n",
        "    <h3>Warning</h3>\n",
        "    <p>You might get an error like this:</p>\n",
        "    <p>PicklingError: Can't pickle `<class 'exercise_code.test_model.TestModel'>`: it's not the same object as exercise_code.test_class.TestSubmission</p>\n",
        "    <p>The reason is that we are using autoreload and working on this class during the notebook session. If you get this error simply restart the kernel and rerun the whole script (Kernel -> Restart & Run All) or only the important cells for generating your model.</p>\n",
        "</div>"
      ]
    },
    {
      "cell_type": "markdown",
      "metadata": {
        "id": "cgpnAneSYh3H"
      },
      "source": [
        "## 8. Zip File Creation\n",
        "Run the following cell to create the zip file for submission, which contains all the exercise code, models, and ipynb notebooks."
      ]
    },
    {
      "cell_type": "code",
      "execution_count": null,
      "metadata": {
        "id": "ylApI2NPYh3I"
      },
      "outputs": [],
      "source": [
        "from exercise_code.submit import submit_exercise\n",
        "\n",
        "submit_exercise('../output/homework_00')"
      ]
    },
    {
      "cell_type": "markdown",
      "metadata": {
        "id": "3fbyLX3bYh3J"
      },
      "source": [
        "# Exercise Goals\n",
        "\n",
        "- Goal: implement dummy machine \n",
        "- Threshold to this exercise: 60\n",
        "- No submission for this exercise only (homework_00). \n",
        "- Generally (for the graded homeworks) you can make multiple submissions until the deadline. We will evaluate your best submission."
      ]
    },
    {
      "cell_type": "markdown",
      "metadata": {
        "id": "P9CuExiIYh3K"
      },
      "source": [
        "## References\n",
        "Congratulations!! You have finished the introductory notebook.\n",
        "Some references to learn how to use basic python libraries (Numpy, Scipy and Matplotlib) that you would need for this course:\n",
        "\n",
        "[1] https://docs.python.org/3/tutorial/\n",
        "\n",
        "[2] http://cs231n.github.io/python-numpy-tutorial/"
      ]
    },
    {
      "cell_type": "markdown",
      "metadata": {
        "id": "nvuCOpB5Yh3K"
      },
      "source": [
        "# Exercise Review\n",
        "\n",
        "We are always interested in your opinion. Now that you have finished this exercise, we would like you to give us some feedback about the time required to finish the submission and/or work through the notebooks. Let us know in Piazza if you have any comments."
      ]
    }
  ],
  "metadata": {
    "kernelspec": {
      "display_name": "Python 3",
      "language": "python",
      "name": "python3"
    },
    "language_info": {
      "codemirror_mode": {
        "name": "ipython",
        "version": 3
      },
      "file_extension": ".py",
      "mimetype": "text/x-python",
      "name": "python",
      "nbconvert_exporter": "python",
      "pygments_lexer": "ipython3",
      "version": "3.8.5"
    },
    "colab": {
      "provenance": [],
      "collapsed_sections": []
    }
  },
  "nbformat": 4,
  "nbformat_minor": 0
}